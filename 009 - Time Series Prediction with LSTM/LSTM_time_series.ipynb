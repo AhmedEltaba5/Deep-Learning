{
  "nbformat": 4,
  "nbformat_minor": 0,
  "metadata": {
    "colab": {
      "name": "LSTM_time_series.ipynb",
      "provenance": []
    },
    "kernelspec": {
      "name": "python3",
      "display_name": "Python 3"
    }
  },
  "cells": [
    {
      "cell_type": "code",
      "metadata": {
        "id": "tEr3GLJxEol0",
        "colab_type": "code",
        "colab": {}
      },
      "source": [
        ""
      ],
      "execution_count": 0,
      "outputs": []
    },
    {
      "cell_type": "markdown",
      "metadata": {
        "id": "powOMO8DF9SZ",
        "colab_type": "text"
      },
      "source": [
        "\n",
        "theInternational Airline Passengers prediction problem.\n",
        "This is a problem where, given a year and a month, the task is to predict the number of international airline passengers in units of 1,000. The data ranges from January 1949 to December 1960, or 12 years, with 144 observations."
      ]
    },
    {
      "cell_type": "code",
      "metadata": {
        "id": "ybsyCwy_GCM0",
        "colab_type": "code",
        "outputId": "979f3fe7-7355-443e-dc68-4b3851840199",
        "colab": {
          "base_uri": "https://localhost:8080/",
          "height": 265
        }
      },
      "source": [
        "\n",
        "\t\n",
        "import pandas\n",
        "import matplotlib.pyplot as plt\n",
        "dataset = pandas.read_csv('/content/airline-passengers.csv', usecols=[1], engine='python')\n",
        "plt.plot(dataset)\n",
        "plt.show()"
      ],
      "execution_count": 0,
      "outputs": [
        {
          "output_type": "display_data",
          "data": {
            "image/png": "[encoded data removed]",
            "text/plain": [
              "<Figure size 432x288 with 1 Axes>"
            ]
          },
          "metadata": {
            "tags": []
          }
        }
      ]
    },
    {
      "cell_type": "markdown",
      "metadata": {
        "id": "6m6Pwkz7GSnL",
        "colab_type": "text"
      },
      "source": [
        "we can also see some periodicity to the dataset that probably corresponding to the Northern Hemisphere vacation period."
      ]
    },
    {
      "cell_type": "markdown",
      "metadata": {
        "id": "oZI6Hv-FGfLU",
        "colab_type": "text"
      },
      "source": [
        "LSTMs:The Long Short-Term Memory network, or LSTM network, is a recurrent neural network that is trained using Backpropagation Through Time and overcomes the vanishing gradient problem.\n",
        "\n",
        "As such, it can be used to create large recurrent networks that in turn can be used to address difficult sequence problems in machine learning and achieve state-of-the-art results.\n",
        "\n",
        "Instead of neurons, LSTM networks have memory blocks that are connected through layers.\n",
        "\n",
        "A block has components that make it smarter than a classical neuron and a memory for recent sequences. A block contains gates that manage the block’s state and output. A block operates upon an input sequence and each gate within a block uses the sigmoid activation units to control whether they are triggered or not, making the change of state and addition of information flowing through the block conditional."
      ]
    },
    {
      "cell_type": "markdown",
      "metadata": {
        "id": "UP3iYKDGGp_F",
        "colab_type": "text"
      },
      "source": [
        "each LSTM unit has the following :\n",
        "Forget Gate: conditionally decides what information to throw away from the block.\n",
        "Input Gate: conditionally decides which values from the input to update the memory state.\n",
        "Output Gate: conditionally decides what to output based on input and the memory of the block"
      ]
    },
    {
      "cell_type": "markdown",
      "metadata": {
        "id": "AvAHARK-G992",
        "colab_type": "text"
      },
      "source": [
        "given the number of passengers (in units of thousands) this month, what is the number of passengers next month?\n",
        "so here we are going to introduce a prediction problem "
      ]
    },
    {
      "cell_type": "code",
      "metadata": {
        "id": "oPe0NhaEHD2E",
        "colab_type": "code",
        "outputId": "23f37c21-0e83-4cbd-addc-d31f54fdd301",
        "colab": {
          "base_uri": "https://localhost:8080/",
          "height": 98
        }
      },
      "source": [
        "\n",
        "\t\n",
        "import numpy\n",
        "import matplotlib.pyplot as plt\n",
        "import pandas\n",
        "import math\n",
        "from keras.models import Sequential\n",
        "from keras.layers import Dense\n",
        "from keras.layers import LSTM\n",
        "from sklearn.preprocessing import MinMaxScaler\n",
        "from sklearn.metrics import mean_squared_error"
      ],
      "execution_count": 0,
      "outputs": [
        {
          "output_type": "stream",
          "text": [
            "Using TensorFlow backend.\n"
          ],
          "name": "stderr"
        },
        {
          "output_type": "display_data",
          "data": {
            "text/html": [
              "<p style=\"color: red;\">\n",
              "The default version of TensorFlow in Colab will soon switch to TensorFlow 2.x.<br>\n",
              "We recommend you <a href=\"https://www.tensorflow.org/guide/migrate\" target=\"_blank\">upgrade</a> now \n",
              "or ensure your notebook will continue to use TensorFlow 1.x via the <code>%tensorflow_version 1.x</code> magic:\n",
              "<a href=\"https://colab.research.google.com/notebooks/tensorflow_version.ipynb\" target=\"_blank\">more info</a>.</p>\n"
            ],
            "text/plain": [
              "<IPython.core.display.HTML object>"
            ]
          },
          "metadata": {
            "tags": []
          }
        }
      ]
    },
    {
      "cell_type": "code",
      "metadata": {
        "id": "5c-mY79jHZyv",
        "colab_type": "code",
        "colab": {}
      },
      "source": [
        "\n",
        "\t\n",
        "# fix random seed for reproducibility\n",
        "numpy.random.seed(7)"
      ],
      "execution_count": 0,
      "outputs": []
    },
    {
      "cell_type": "code",
      "metadata": {
        "id": "psvw2A3lHdqg",
        "colab_type": "code",
        "colab": {}
      },
      "source": [
        "\n",
        "\t\n",
        "# load the dataset\n",
        "dataframe = pandas.read_csv('/content/airline-passengers.csv', usecols=[1], engine='python')\n",
        "dataset = dataframe.values\n",
        "dataset = dataset.astype('float32')"
      ],
      "execution_count": 0,
      "outputs": []
    },
    {
      "cell_type": "markdown",
      "metadata": {
        "id": "2LZMb4xdHnXc",
        "colab_type": "text"
      },
      "source": [
        "LSTMs are sensitive to the scale of the input data, specifically when the sigmoid (default) or tanh activation functions are used. It can be a good practice to rescale the data to the range of 0-to-1, also called normalizing. We can easily normalize the dataset using the MinMaxScaler preprocessing class from the scikit-learn library."
      ]
    },
    {
      "cell_type": "code",
      "metadata": {
        "id": "hEVN55rSHoCg",
        "colab_type": "code",
        "colab": {}
      },
      "source": [
        " #normalize the dataset\n",
        "scaler = MinMaxScaler(feature_range=(0, 1))\n",
        "dataset = scaler.fit_transform(dataset)"
      ],
      "execution_count": 0,
      "outputs": []
    },
    {
      "cell_type": "markdown",
      "metadata": {
        "id": "XVnAmUi8H6-f",
        "colab_type": "text"
      },
      "source": [
        "\n",
        "With time series data, the sequence of values is important. A simple method that we can use is to split the ordered dataset into train and test datasets. The code below calculates the index of the split point and separates the data into the training datasets with 67% of the observations that we can use to train our model, leaving the remaining 33% for testing the model."
      ]
    },
    {
      "cell_type": "code",
      "metadata": {
        "id": "92rgTHiyH9JP",
        "colab_type": "code",
        "outputId": "2bf4eb6a-fd72-4675-8f3d-345ced55c609",
        "colab": {
          "base_uri": "https://localhost:8080/",
          "height": 34
        }
      },
      "source": [
        "\n",
        "\t\n",
        "# split into train and test sets\n",
        "train_size = int(len(dataset) * 0.67)\n",
        "test_size = len(dataset) - train_size\n",
        "train, test = dataset[0:train_size,:], dataset[train_size:len(dataset),:]\n",
        "print(len(train), len(test))"
      ],
      "execution_count": 0,
      "outputs": [
        {
          "output_type": "stream",
          "text": [
            "96 48\n"
          ],
          "name": "stdout"
        }
      ]
    },
    {
      "cell_type": "markdown",
      "metadata": {
        "id": "DTGr1XAtIGQb",
        "colab_type": "text"
      },
      "source": [
        "function takes two arguments: the dataset, which is a NumPy array that we want to convert into a dataset, and the look_back, which is the number of previous time steps to use as input variables to predict the next time period — in this case defaulted to 1.\n",
        "\n",
        "This default will create a dataset where X is the number of passengers at a given time (t) and Y is the number of passengers at the next time (t + 1)."
      ]
    },
    {
      "cell_type": "code",
      "metadata": {
        "id": "fe8uTQ4tIG5F",
        "colab_type": "code",
        "colab": {}
      },
      "source": [
        "\n",
        "\t\n",
        "# convert an array of values into a dataset matrix\n",
        "def create_dataset(dataset, look_back=1):\n",
        "\tdataX, dataY = [], []\n",
        "\tfor i in range(len(dataset)-look_back-1):\n",
        "\t\ta = dataset[i:(i+look_back), 0]\n",
        "\t\tdataX.append(a)\n",
        "\t\tdataY.append(dataset[i + look_back, 0])\n",
        "\treturn numpy.array(dataX), numpy.array(dataY)"
      ],
      "execution_count": 0,
      "outputs": []
    },
    {
      "cell_type": "markdown",
      "metadata": {
        "id": "eqlg0DafIQlW",
        "colab_type": "text"
      },
      "source": [
        "compare these first 5 rows to the original dataset sample listed in the previous section, you can see the X=t and Y=t+1 pattern in the numbers."
      ]
    },
    {
      "cell_type": "code",
      "metadata": {
        "id": "jlaxfhDzIRNw",
        "colab_type": "code",
        "colab": {}
      },
      "source": [
        "\n",
        "\t\n",
        "# reshape into X=t and Y=t+1\n",
        "look_back = 1\n",
        "trainX, trainY = create_dataset(train, look_back)\n",
        "testX, testY = create_dataset(test, look_back)"
      ],
      "execution_count": 0,
      "outputs": []
    },
    {
      "cell_type": "markdown",
      "metadata": {
        "id": "Q2LHw_qwIYuW",
        "colab_type": "text"
      },
      "source": [
        "The LSTM network expects the input data (X) to be provided with a specific array structure in the form of: [samples, time steps, features]."
      ]
    },
    {
      "cell_type": "markdown",
      "metadata": {
        "id": "4C3pCbXxIiNb",
        "colab_type": "text"
      },
      "source": [
        "Currently, our data is in the form: [samples, features] and we are framing the problem as one time step for each sample. We can transform the prepared train and test input data into the expected structure using numpy.reshape() as follows:"
      ]
    },
    {
      "cell_type": "code",
      "metadata": {
        "id": "71taM560IjPs",
        "colab_type": "code",
        "colab": {}
      },
      "source": [
        "\n",
        "\t\n",
        "# reshape input to be [samples, time steps, features]\n",
        "trainX = numpy.reshape(trainX, (trainX.shape[0], 1, trainX.shape[1]))\n",
        "testX = numpy.reshape(testX, (testX.shape[0], 1, testX.shape[1]))"
      ],
      "execution_count": 0,
      "outputs": []
    },
    {
      "cell_type": "markdown",
      "metadata": {
        "id": "EXf7wEAYIuTT",
        "colab_type": "text"
      },
      "source": [
        "We are now ready to design and fit our LSTM network for this problem.\n",
        "\n",
        "The network has a visible layer with 1 input, a hidden layer with 4 LSTM blocks or neurons, and an output layer that makes a single value prediction. The default sigmoid activation function is used for the LSTM blocks. The network is trained for 100 epochs and a batch size of 1 is used."
      ]
    },
    {
      "cell_type": "code",
      "metadata": {
        "id": "1d4oHgMhIu7R",
        "colab_type": "code",
        "outputId": "200003e2-f837-41d5-e44d-05c798008344",
        "colab": {
          "base_uri": "https://localhost:8080/",
          "height": 1000
        }
      },
      "source": [
        "\n",
        "# create and fit the LSTM network\n",
        "model = Sequential()\n",
        "model.add(LSTM(4, input_shape=(1, look_back)))\n",
        "model.add(Dense(1))\n",
        "model.compile(loss='mean_squared_error', optimizer='adam')\n",
        "model.fit(trainX, trainY, epochs=100, batch_size=1, verbose=2)\n"
      ],
      "execution_count": 0,
      "outputs": [
        {
          "output_type": "stream",
          "text": [
            "WARNING:tensorflow:From /usr/local/lib/python3.6/dist-packages/keras/backend/tensorflow_backend.py:66: The name tf.get_default_graph is deprecated. Please use tf.compat.v1.get_default_graph instead.\n",
            "\n",
            "WARNING:tensorflow:From /usr/local/lib/python3.6/dist-packages/keras/backend/tensorflow_backend.py:541: The name tf.placeholder is deprecated. Please use tf.compat.v1.placeholder instead.\n",
            "\n",
            "WARNING:tensorflow:From /usr/local/lib/python3.6/dist-packages/keras/backend/tensorflow_backend.py:4432: The name tf.random_uniform is deprecated. Please use tf.random.uniform instead.\n",
            "\n",
            "WARNING:tensorflow:From /usr/local/lib/python3.6/dist-packages/keras/optimizers.py:793: The name tf.train.Optimizer is deprecated. Please use tf.compat.v1.train.Optimizer instead.\n",
            "\n",
            "WARNING:tensorflow:From /usr/local/lib/python3.6/dist-packages/tensorflow_core/python/ops/math_grad.py:1424: where (from tensorflow.python.ops.array_ops) is deprecated and will be removed in a future version.\n",
            "Instructions for updating:\n",
            "Use tf.where in 2.0, which has the same broadcast rule as np.where\n",
            "WARNING:tensorflow:From /usr/local/lib/python3.6/dist-packages/keras/backend/tensorflow_backend.py:1033: The name tf.assign_add is deprecated. Please use tf.compat.v1.assign_add instead.\n",
            "\n",
            "WARNING:tensorflow:From /usr/local/lib/python3.6/dist-packages/keras/backend/tensorflow_backend.py:1020: The name tf.assign is deprecated. Please use tf.compat.v1.assign instead.\n",
            "\n",
            "WARNING:tensorflow:From /usr/local/lib/python3.6/dist-packages/keras/backend/tensorflow_backend.py:3005: The name tf.Session is deprecated. Please use tf.compat.v1.Session instead.\n",
            "\n",
            "Epoch 1/100\n",
            "WARNING:tensorflow:From /usr/local/lib/python3.6/dist-packages/keras/backend/tensorflow_backend.py:190: The name tf.get_default_session is deprecated. Please use tf.compat.v1.get_default_session instead.\n",
            "\n",
            "WARNING:tensorflow:From /usr/local/lib/python3.6/dist-packages/keras/backend/tensorflow_backend.py:197: The name tf.ConfigProto is deprecated. Please use tf.compat.v1.ConfigProto instead.\n",
            "\n",
            "WARNING:tensorflow:From /usr/local/lib/python3.6/dist-packages/keras/backend/tensorflow_backend.py:207: The name tf.global_variables is deprecated. Please use tf.compat.v1.global_variables instead.\n",
            "\n",
            "WARNING:tensorflow:From /usr/local/lib/python3.6/dist-packages/keras/backend/tensorflow_backend.py:216: The name tf.is_variable_initialized is deprecated. Please use tf.compat.v1.is_variable_initialized instead.\n",
            "\n",
            "WARNING:tensorflow:From /usr/local/lib/python3.6/dist-packages/keras/backend/tensorflow_backend.py:223: The name tf.variables_initializer is deprecated. Please use tf.compat.v1.variables_initializer instead.\n",
            "\n",
            " - 1s - loss: 0.0412\n",
            "Epoch 2/100\n",
            " - 0s - loss: 0.0201\n",
            "Epoch 3/100\n",
            " - 0s - loss: 0.0145\n",
            "Epoch 4/100\n",
            " - 0s - loss: 0.0131\n",
            "Epoch 5/100\n",
            " - 0s - loss: 0.0121\n",
            "Epoch 6/100\n",
            " - 0s - loss: 0.0111\n",
            "Epoch 7/100\n",
            " - 0s - loss: 0.0102\n",
            "Epoch 8/100\n",
            " - 0s - loss: 0.0093\n",
            "Epoch 9/100\n",
            " - 0s - loss: 0.0081\n",
            "Epoch 10/100\n",
            " - 0s - loss: 0.0071\n",
            "Epoch 11/100\n",
            " - 0s - loss: 0.0062\n",
            "Epoch 12/100\n",
            " - 0s - loss: 0.0053\n",
            "Epoch 13/100\n",
            " - 0s - loss: 0.0045\n",
            "Epoch 14/100\n",
            " - 0s - loss: 0.0038\n",
            "Epoch 15/100\n",
            " - 0s - loss: 0.0033\n",
            "Epoch 16/100\n",
            " - 0s - loss: 0.0029\n",
            "Epoch 17/100\n",
            " - 0s - loss: 0.0026\n",
            "Epoch 18/100\n",
            " - 0s - loss: 0.0024\n",
            "Epoch 19/100\n",
            " - 0s - loss: 0.0022\n",
            "Epoch 20/100\n",
            " - 0s - loss: 0.0022\n",
            "Epoch 21/100\n",
            " - 0s - loss: 0.0021\n",
            "Epoch 22/100\n",
            " - 0s - loss: 0.0021\n",
            "Epoch 23/100\n",
            " - 0s - loss: 0.0021\n",
            "Epoch 24/100\n",
            " - 0s - loss: 0.0021\n",
            "Epoch 25/100\n",
            " - 0s - loss: 0.0020\n",
            "Epoch 26/100\n",
            " - 0s - loss: 0.0021\n",
            "Epoch 27/100\n",
            " - 0s - loss: 0.0020\n",
            "Epoch 28/100\n",
            " - 0s - loss: 0.0020\n",
            "Epoch 29/100\n",
            " - 0s - loss: 0.0020\n",
            "Epoch 30/100\n",
            " - 0s - loss: 0.0021\n",
            "Epoch 31/100\n",
            " - 0s - loss: 0.0020\n",
            "Epoch 32/100\n",
            " - 0s - loss: 0.0020\n",
            "Epoch 33/100\n",
            " - 0s - loss: 0.0021\n",
            "Epoch 34/100\n",
            " - 0s - loss: 0.0021\n",
            "Epoch 35/100\n",
            " - 0s - loss: 0.0021\n",
            "Epoch 36/100\n",
            " - 0s - loss: 0.0020\n",
            "Epoch 37/100\n",
            " - 0s - loss: 0.0021\n",
            "Epoch 38/100\n",
            " - 0s - loss: 0.0020\n",
            "Epoch 39/100\n",
            " - 0s - loss: 0.0021\n",
            "Epoch 40/100\n",
            " - 0s - loss: 0.0020\n",
            "Epoch 41/100\n",
            " - 0s - loss: 0.0020\n",
            "Epoch 42/100\n",
            " - 0s - loss: 0.0020\n",
            "Epoch 43/100\n",
            " - 0s - loss: 0.0021\n",
            "Epoch 44/100\n",
            " - 0s - loss: 0.0020\n",
            "Epoch 45/100\n",
            " - 0s - loss: 0.0021\n",
            "Epoch 46/100\n",
            " - 0s - loss: 0.0020\n",
            "Epoch 47/100\n",
            " - 0s - loss: 0.0020\n",
            "Epoch 48/100\n",
            " - 0s - loss: 0.0020\n",
            "Epoch 49/100\n",
            " - 0s - loss: 0.0020\n",
            "Epoch 50/100\n",
            " - 0s - loss: 0.0020\n",
            "Epoch 51/100\n",
            " - 0s - loss: 0.0020\n",
            "Epoch 52/100\n",
            " - 0s - loss: 0.0020\n",
            "Epoch 53/100\n",
            " - 0s - loss: 0.0020\n",
            "Epoch 54/100\n",
            " - 0s - loss: 0.0020\n",
            "Epoch 55/100\n",
            " - 0s - loss: 0.0021\n",
            "Epoch 56/100\n",
            " - 0s - loss: 0.0020\n",
            "Epoch 57/100\n",
            " - 0s - loss: 0.0020\n",
            "Epoch 58/100\n",
            " - 0s - loss: 0.0020\n",
            "Epoch 59/100\n",
            " - 0s - loss: 0.0020\n",
            "Epoch 60/100\n",
            " - 0s - loss: 0.0020\n",
            "Epoch 61/100\n",
            " - 0s - loss: 0.0021\n",
            "Epoch 62/100\n",
            " - 0s - loss: 0.0020\n",
            "Epoch 63/100\n",
            " - 0s - loss: 0.0020\n",
            "Epoch 64/100\n",
            " - 0s - loss: 0.0020\n",
            "Epoch 65/100\n",
            " - 0s - loss: 0.0020\n",
            "Epoch 66/100\n",
            " - 0s - loss: 0.0020\n",
            "Epoch 67/100\n",
            " - 0s - loss: 0.0020\n",
            "Epoch 68/100\n",
            " - 0s - loss: 0.0021\n",
            "Epoch 69/100\n",
            " - 0s - loss: 0.0020\n",
            "Epoch 70/100\n",
            " - 0s - loss: 0.0021\n",
            "Epoch 71/100\n",
            " - 0s - loss: 0.0020\n",
            "Epoch 72/100\n",
            " - 0s - loss: 0.0020\n",
            "Epoch 73/100\n",
            " - 0s - loss: 0.0020\n",
            "Epoch 74/100\n",
            " - 0s - loss: 0.0021\n",
            "Epoch 75/100\n",
            " - 0s - loss: 0.0021\n",
            "Epoch 76/100\n",
            " - 0s - loss: 0.0020\n",
            "Epoch 77/100\n",
            " - 0s - loss: 0.0021\n",
            "Epoch 78/100\n",
            " - 0s - loss: 0.0019\n",
            "Epoch 79/100\n",
            " - 0s - loss: 0.0022\n",
            "Epoch 80/100\n",
            " - 0s - loss: 0.0020\n",
            "Epoch 81/100\n",
            " - 0s - loss: 0.0020\n",
            "Epoch 82/100\n",
            " - 0s - loss: 0.0020\n",
            "Epoch 83/100\n",
            " - 0s - loss: 0.0020\n",
            "Epoch 84/100\n",
            " - 0s - loss: 0.0020\n",
            "Epoch 85/100\n",
            " - 0s - loss: 0.0021\n",
            "Epoch 86/100\n",
            " - 0s - loss: 0.0021\n",
            "Epoch 87/100\n",
            " - 0s - loss: 0.0020\n",
            "Epoch 88/100\n",
            " - 0s - loss: 0.0020\n",
            "Epoch 89/100\n",
            " - 0s - loss: 0.0020\n",
            "Epoch 90/100\n",
            " - 0s - loss: 0.0020\n",
            "Epoch 91/100\n",
            " - 0s - loss: 0.0020\n",
            "Epoch 92/100\n",
            " - 0s - loss: 0.0020\n",
            "Epoch 93/100\n",
            " - 0s - loss: 0.0021\n",
            "Epoch 94/100\n",
            " - 0s - loss: 0.0021\n",
            "Epoch 95/100\n",
            " - 0s - loss: 0.0020\n",
            "Epoch 96/100\n",
            " - 0s - loss: 0.0020\n",
            "Epoch 97/100\n",
            " - 0s - loss: 0.0020\n",
            "Epoch 98/100\n",
            " - 0s - loss: 0.0020\n",
            "Epoch 99/100\n",
            " - 0s - loss: 0.0020\n",
            "Epoch 100/100\n",
            " - 0s - loss: 0.0020\n"
          ],
          "name": "stdout"
        },
        {
          "output_type": "execute_result",
          "data": {
            "text/plain": [
              "<keras.callbacks.History at 0x7faa6e3f39b0>"
            ]
          },
          "metadata": {
            "tags": []
          },
          "execution_count": 10
        }
      ]
    },
    {
      "cell_type": "code",
      "metadata": {
        "id": "-ATBvV0II2jY",
        "colab_type": "code",
        "colab": {}
      },
      "source": [
        ""
      ],
      "execution_count": 0,
      "outputs": []
    },
    {
      "cell_type": "markdown",
      "metadata": {
        "id": "1xzep0huJD_v",
        "colab_type": "text"
      },
      "source": [
        "we can estimate the performance of the model on the train and test datasets. This will give us a point of comparison for new models."
      ]
    },
    {
      "cell_type": "markdown",
      "metadata": {
        "id": "YJ2nClEXJKG4",
        "colab_type": "text"
      },
      "source": [
        "Note that we invert the predictions before calculating error scores to ensure that performance is reported in the same units as the original data (thousands of passengers per month)."
      ]
    },
    {
      "cell_type": "code",
      "metadata": {
        "id": "9G6toKLMJKtD",
        "colab_type": "code",
        "outputId": "050de8c4-58d1-4592-b385-fd8cdb36579a",
        "colab": {
          "base_uri": "https://localhost:8080/",
          "height": 52
        }
      },
      "source": [
        "\n",
        "\t\n",
        "# make predictions\n",
        "trainPredict = model.predict(trainX)\n",
        "testPredict = model.predict(testX)\n",
        "# invert predictions\n",
        "trainPredict = scaler.inverse_transform(trainPredict)\n",
        "trainY = scaler.inverse_transform([trainY])\n",
        "testPredict = scaler.inverse_transform(testPredict)\n",
        "testY = scaler.inverse_transform([testY])\n",
        "# calculate root mean squared error\n",
        "trainScore = math.sqrt(mean_squared_error(trainY[0], trainPredict[:,0]))\n",
        "print('Train Score: %.2f RMSE' % (trainScore))\n",
        "testScore = math.sqrt(mean_squared_error(testY[0], testPredict[:,0]))\n",
        "print('Test Score: %.2f RMSE' % (testScore))"
      ],
      "execution_count": 0,
      "outputs": [
        {
          "output_type": "stream",
          "text": [
            "Train Score: 22.92 RMSE\n",
            "Test Score: 47.53 RMSE\n"
          ],
          "name": "stdout"
        }
      ]
    },
    {
      "cell_type": "markdown",
      "metadata": {
        "id": "hY2xp7dpJa6U",
        "colab_type": "text"
      },
      "source": [
        " we can generate predictions using the model for both the train and test dataset to get a visual indication of the skill of the model."
      ]
    },
    {
      "cell_type": "markdown",
      "metadata": {
        "id": "1O2N4uMiJgW-",
        "colab_type": "text"
      },
      "source": [
        "Because of how the dataset was prepared, we must shift the predictions so that they align on the x-axis with the original dataset. Once prepared, the data is plotted, showing the original dataset in blue, the predictions for the training dataset in green, and the predictions on the unseen test dataset in red."
      ]
    },
    {
      "cell_type": "code",
      "metadata": {
        "id": "0xXON6mEJg6y",
        "colab_type": "code",
        "outputId": "c59b8fbb-44c2-4faa-dd02-84fcde910d10",
        "colab": {
          "base_uri": "https://localhost:8080/",
          "height": 265
        }
      },
      "source": [
        "\n",
        "\t\n",
        "# shift train predictions for plotting\n",
        "trainPredictPlot = numpy.empty_like(dataset)\n",
        "trainPredictPlot[:, :] = numpy.nan\n",
        "trainPredictPlot[look_back:len(trainPredict)+look_back, :] = trainPredict\n",
        "# shift test predictions for plotting\n",
        "testPredictPlot = numpy.empty_like(dataset)\n",
        "testPredictPlot[:, :] = numpy.nan\n",
        "testPredictPlot[len(trainPredict)+(look_back*2)+1:len(dataset)-1, :] = testPredict\n",
        "# plot baseline and predictions\n",
        "plt.plot(scaler.inverse_transform(dataset))\n",
        "plt.plot(trainPredictPlot)\n",
        "plt.plot(testPredictPlot)\n",
        "plt.show()"
      ],
      "execution_count": 0,
      "outputs": [
        {
          "output_type": "display_data",
          "data": {
            "image/png": "[encoded data removed]",
            "text/plain": [
              "<Figure size 432x288 with 1 Axes>"
            ]
          },
          "metadata": {
            "tags": []
          }
        }
      ]
    },
    {
      "cell_type": "markdown",
      "metadata": {
        "id": "luZdcwZQKEu1",
        "colab_type": "text"
      },
      "source": [
        "LSTM for Regression Using the Window Method"
      ]
    },
    {
      "cell_type": "markdown",
      "metadata": {
        "id": "pyQAtXDqKIjq",
        "colab_type": "text"
      },
      "source": [
        "We can also phrase the problem so that multiple, recent time steps can be used to make the prediction for the next time step."
      ]
    },
    {
      "cell_type": "markdown",
      "metadata": {
        "id": "SareXdenKMLe",
        "colab_type": "text"
      },
      "source": [
        "called a window, and the size of the window is a parameter that can be tuned for each problem.\n",
        "given the current time (t) we want to predict the value at the next time in the sequence (t+1), we can use the current time (t), as well as the two prior times (t-1 and t-2) as input variables.\n",
        "When phrased as a regression problem, the input variables are t-2, t-1, t and the output variable is t+1.\n",
        "create_dataset() function we created in the previous section allows us to create this formulation of the time series problem by increasing the look_back argument from 1 to 3."
      ]
    },
    {
      "cell_type": "markdown",
      "metadata": {
        "id": "D4BZBCZ2LBOW",
        "colab_type": "text"
      },
      "source": [
        "![alt text](https://s3-ap-south-1.amazonaws.com/av-blog-media/wp-content/uploads/2018/09/mts-768x432.jpg)"
      ]
    },
    {
      "cell_type": "code",
      "metadata": {
        "id": "p7v6BR70LDP8",
        "colab_type": "code",
        "outputId": "6dbc5bca-7d76-4ebb-ecbb-0c83d2628bc0",
        "colab": {
          "base_uri": "https://localhost:8080/",
          "height": 1000
        }
      },
      "source": [
        "\n",
        "\t\n",
        "# LSTM for international airline passengers problem with window regression framing\n",
        "import numpy\n",
        "import matplotlib.pyplot as plt\n",
        "from pandas import read_csv\n",
        "import math\n",
        "from keras.models import Sequential\n",
        "from keras.layers import Dense\n",
        "from keras.layers import LSTM\n",
        "from sklearn.preprocessing import MinMaxScaler\n",
        "from sklearn.metrics import mean_squared_error\n",
        "# convert an array of values into a dataset matrix\n",
        "def create_dataset(dataset, look_back=1):\n",
        "\tdataX, dataY = [], []\n",
        "\tfor i in range(len(dataset)-look_back-1):\n",
        "\t\ta = dataset[i:(i+look_back), 0]\n",
        "\t\tdataX.append(a)\n",
        "\t\tdataY.append(dataset[i + look_back, 0])\n",
        "\treturn numpy.array(dataX), numpy.array(dataY)\n",
        "# fix random seed for reproducibility\n",
        "numpy.random.seed(7)\n",
        "# load the dataset\n",
        "dataframe = read_csv('/content/airline-passengers.csv', usecols=[1], engine='python')\n",
        "dataset = dataframe.values\n",
        "dataset = dataset.astype('float32')\n",
        "# normalize the dataset\n",
        "scaler = MinMaxScaler(feature_range=(0, 1))\n",
        "dataset = scaler.fit_transform(dataset)\n",
        "# split into train and test sets\n",
        "train_size = int(len(dataset) * 0.67)\n",
        "test_size = len(dataset) - train_size\n",
        "train, test = dataset[0:train_size,:], dataset[train_size:len(dataset),:]\n",
        "# reshape into X=t and Y=t+1\n",
        "look_back = 3\n",
        "trainX, trainY = create_dataset(train, look_back)\n",
        "testX, testY = create_dataset(test, look_back)\n",
        "# reshape input to be [samples, time steps, features]\n",
        "trainX = numpy.reshape(trainX, (trainX.shape[0], 1, trainX.shape[1]))\n",
        "testX = numpy.reshape(testX, (testX.shape[0], 1, testX.shape[1]))\n",
        "# create and fit the LSTM network\n",
        "model = Sequential()\n",
        "model.add(LSTM(4, input_shape=(1, look_back)))\n",
        "model.add(Dense(1))\n",
        "model.compile(loss='mean_squared_error', optimizer='adam')\n",
        "model.fit(trainX, trainY, epochs=100, batch_size=1, verbose=2)\n",
        "# make predictions\n",
        "trainPredict = model.predict(trainX)\n",
        "testPredict = model.predict(testX)\n",
        "# invert predictions\n",
        "trainPredict = scaler.inverse_transform(trainPredict)\n",
        "trainY = scaler.inverse_transform([trainY])\n",
        "testPredict = scaler.inverse_transform(testPredict)\n",
        "testY = scaler.inverse_transform([testY])\n",
        "# calculate root mean squared error\n",
        "trainScore = math.sqrt(mean_squared_error(trainY[0], trainPredict[:,0]))\n",
        "print('Train Score: %.2f RMSE' % (trainScore))\n",
        "testScore = math.sqrt(mean_squared_error(testY[0], testPredict[:,0]))\n",
        "print('Test Score: %.2f RMSE' % (testScore))\n",
        "# shift train predictions for plotting\n",
        "trainPredictPlot = numpy.empty_like(dataset)\n",
        "trainPredictPlot[:, :] = numpy.nan\n",
        "trainPredictPlot[look_back:len(trainPredict)+look_back, :] = trainPredict\n",
        "# shift test predictions for plotting\n",
        "testPredictPlot = numpy.empty_like(dataset)\n",
        "testPredictPlot[:, :] = numpy.nan\n",
        "testPredictPlot[len(trainPredict)+(look_back*2)+1:len(dataset)-1, :] = testPredict\n",
        "# plot baseline and predictions\n",
        "plt.plot(scaler.inverse_transform(dataset))\n",
        "plt.plot(trainPredictPlot)\n",
        "plt.plot(testPredictPlot)\n",
        "plt.show()"
      ],
      "execution_count": 0,
      "outputs": [
        {
          "output_type": "stream",
          "text": [
            "Epoch 1/100\n",
            " - 1s - loss: 0.0542\n",
            "Epoch 2/100\n",
            " - 0s - loss: 0.0258\n",
            "Epoch 3/100\n",
            " - 0s - loss: 0.0167\n",
            "Epoch 4/100\n",
            " - 0s - loss: 0.0145\n",
            "Epoch 5/100\n",
            " - 0s - loss: 0.0129\n",
            "Epoch 6/100\n",
            " - 0s - loss: 0.0116\n",
            "Epoch 7/100\n",
            " - 0s - loss: 0.0105\n",
            "Epoch 8/100\n",
            " - 0s - loss: 0.0094\n",
            "Epoch 9/100\n",
            " - 0s - loss: 0.0081\n",
            "Epoch 10/100\n",
            " - 0s - loss: 0.0074\n",
            "Epoch 11/100\n",
            " - 0s - loss: 0.0066\n",
            "Epoch 12/100\n",
            " - 0s - loss: 0.0060\n",
            "Epoch 13/100\n",
            " - 0s - loss: 0.0056\n",
            "Epoch 14/100\n",
            " - 0s - loss: 0.0052\n",
            "Epoch 15/100\n",
            " - 0s - loss: 0.0050\n",
            "Epoch 16/100\n",
            " - 0s - loss: 0.0049\n",
            "Epoch 17/100\n",
            " - 0s - loss: 0.0046\n",
            "Epoch 18/100\n",
            " - 0s - loss: 0.0045\n",
            "Epoch 19/100\n",
            " - 0s - loss: 0.0045\n",
            "Epoch 20/100\n",
            " - 0s - loss: 0.0043\n",
            "Epoch 21/100\n",
            " - 0s - loss: 0.0043\n",
            "Epoch 22/100\n",
            " - 0s - loss: 0.0042\n",
            "Epoch 23/100\n",
            " - 0s - loss: 0.0042\n",
            "Epoch 24/100\n",
            " - 0s - loss: 0.0042\n",
            "Epoch 25/100\n",
            " - 0s - loss: 0.0040\n",
            "Epoch 26/100\n",
            " - 0s - loss: 0.0041\n",
            "Epoch 27/100\n",
            " - 0s - loss: 0.0040\n",
            "Epoch 28/100\n",
            " - 0s - loss: 0.0040\n",
            "Epoch 29/100\n",
            " - 0s - loss: 0.0039\n",
            "Epoch 30/100\n",
            " - 0s - loss: 0.0038\n",
            "Epoch 31/100\n",
            " - 0s - loss: 0.0038\n",
            "Epoch 32/100\n",
            " - 0s - loss: 0.0037\n",
            "Epoch 33/100\n",
            " - 0s - loss: 0.0037\n",
            "Epoch 34/100\n",
            " - 0s - loss: 0.0037\n",
            "Epoch 35/100\n",
            " - 0s - loss: 0.0036\n",
            "Epoch 36/100\n",
            " - 0s - loss: 0.0035\n",
            "Epoch 37/100\n",
            " - 0s - loss: 0.0036\n",
            "Epoch 38/100\n",
            " - 0s - loss: 0.0035\n",
            "Epoch 39/100\n",
            " - 0s - loss: 0.0035\n",
            "Epoch 40/100\n",
            " - 0s - loss: 0.0034\n",
            "Epoch 41/100\n",
            " - 0s - loss: 0.0035\n",
            "Epoch 42/100\n",
            " - 0s - loss: 0.0034\n",
            "Epoch 43/100\n",
            " - 0s - loss: 0.0033\n",
            "Epoch 44/100\n",
            " - 0s - loss: 0.0033\n",
            "Epoch 45/100\n",
            " - 0s - loss: 0.0032\n",
            "Epoch 46/100\n",
            " - 0s - loss: 0.0034\n",
            "Epoch 47/100\n",
            " - 0s - loss: 0.0031\n",
            "Epoch 48/100\n",
            " - 0s - loss: 0.0031\n",
            "Epoch 49/100\n",
            " - 0s - loss: 0.0031\n",
            "Epoch 50/100\n",
            " - 0s - loss: 0.0030\n",
            "Epoch 51/100\n",
            " - 0s - loss: 0.0030\n",
            "Epoch 52/100\n",
            " - 0s - loss: 0.0029\n",
            "Epoch 53/100\n",
            " - 0s - loss: 0.0030\n",
            "Epoch 54/100\n",
            " - 0s - loss: 0.0028\n",
            "Epoch 55/100\n",
            " - 0s - loss: 0.0028\n",
            "Epoch 56/100\n",
            " - 0s - loss: 0.0028\n",
            "Epoch 57/100\n",
            " - 0s - loss: 0.0027\n",
            "Epoch 58/100\n",
            " - 0s - loss: 0.0028\n",
            "Epoch 59/100\n",
            " - 0s - loss: 0.0027\n",
            "Epoch 60/100\n",
            " - 0s - loss: 0.0028\n",
            "Epoch 61/100\n",
            " - 0s - loss: 0.0027\n",
            "Epoch 62/100\n",
            " - 0s - loss: 0.0026\n",
            "Epoch 63/100\n",
            " - 0s - loss: 0.0025\n",
            "Epoch 64/100\n",
            " - 0s - loss: 0.0028\n",
            "Epoch 65/100\n",
            " - 0s - loss: 0.0025\n",
            "Epoch 66/100\n",
            " - 0s - loss: 0.0025\n",
            "Epoch 67/100\n",
            " - 0s - loss: 0.0024\n",
            "Epoch 68/100\n",
            " - 0s - loss: 0.0025\n",
            "Epoch 69/100\n",
            " - 0s - loss: 0.0024\n",
            "Epoch 70/100\n",
            " - 0s - loss: 0.0024\n",
            "Epoch 71/100\n",
            " - 0s - loss: 0.0024\n",
            "Epoch 72/100\n",
            " - 0s - loss: 0.0024\n",
            "Epoch 73/100\n",
            " - 0s - loss: 0.0024\n",
            "Epoch 74/100\n",
            " - 0s - loss: 0.0023\n",
            "Epoch 75/100\n",
            " - 0s - loss: 0.0023\n",
            "Epoch 76/100\n",
            " - 0s - loss: 0.0023\n",
            "Epoch 77/100\n",
            " - 0s - loss: 0.0024\n",
            "Epoch 78/100\n",
            " - 0s - loss: 0.0023\n",
            "Epoch 79/100\n",
            " - 0s - loss: 0.0023\n",
            "Epoch 80/100\n",
            " - 0s - loss: 0.0023\n",
            "Epoch 81/100\n",
            " - 0s - loss: 0.0023\n",
            "Epoch 82/100\n",
            " - 0s - loss: 0.0022\n",
            "Epoch 83/100\n",
            " - 0s - loss: 0.0022\n",
            "Epoch 84/100\n",
            " - 0s - loss: 0.0022\n",
            "Epoch 85/100\n",
            " - 0s - loss: 0.0022\n",
            "Epoch 86/100\n",
            " - 0s - loss: 0.0020\n",
            "Epoch 87/100\n",
            " - 0s - loss: 0.0023\n",
            "Epoch 88/100\n",
            " - 0s - loss: 0.0021\n",
            "Epoch 89/100\n",
            " - 0s - loss: 0.0021\n",
            "Epoch 90/100\n",
            " - 0s - loss: 0.0021\n",
            "Epoch 91/100\n",
            " - 0s - loss: 0.0021\n",
            "Epoch 92/100\n",
            " - 0s - loss: 0.0021\n",
            "Epoch 93/100\n",
            " - 0s - loss: 0.0021\n",
            "Epoch 94/100\n",
            " - 0s - loss: 0.0021\n",
            "Epoch 95/100\n",
            " - 0s - loss: 0.0021\n",
            "Epoch 96/100\n",
            " - 0s - loss: 0.0021\n",
            "Epoch 97/100\n",
            " - 0s - loss: 0.0021\n",
            "Epoch 98/100\n",
            " - 0s - loss: 0.0021\n",
            "Epoch 99/100\n",
            " - 0s - loss: 0.0022\n",
            "Epoch 100/100\n",
            " - 0s - loss: 0.0020\n",
            "Train Score: 24.19 RMSE\n",
            "Test Score: 58.03 RMSE\n"
          ],
          "name": "stdout"
        },
        {
          "output_type": "display_data",
          "data": {
            "image/png": "[encoded data removed]",
            "text/plain": [
              "<Figure size 432x288 with 1 Axes>"
            ]
          },
          "metadata": {
            "tags": []
          }
        }
      ]
    },
    {
      "cell_type": "markdown",
      "metadata": {
        "id": "DzYjrr2PLccK",
        "colab_type": "text"
      },
      "source": [
        "We can see that the error was increased slightly compared to that of the previous section. The window size and the network architecture were not tuned"
      ]
    },
    {
      "cell_type": "markdown",
      "metadata": {
        "id": "f_sSTVLULm7C",
        "colab_type": "text"
      },
      "source": [
        "Now lets try the time step technique \n",
        "\n",
        "\n",
        "You may have noticed that the data preparation for the LSTM network includes time steps.\n",
        "\n",
        "Some sequence problems may have a varied number of time steps per sample. For example, you may have measurements of a physical machine leading up to a point of failure or a point of surge. Each incident would be a sample the observations that lead up to the event would be the time steps, and the variables observed would be the features.\n",
        "\n",
        "Time steps provide another way to phrase our time series problem. Like above in the window example, we can take prior time steps in our time series as inputs to predict the output at the next time step.\n",
        "\n",
        "Instead of phrasing the past observations as separate input features, we can use them as time steps of the one input feature, which is indeed a more accurate framing of the problem.\n",
        "\n",
        "We can do this using the same data representation as in the previous window-based example, except when we reshape the data, we set the columns to be the time steps dimension and change the features dimension back to 1"
      ]
    },
    {
      "cell_type": "code",
      "metadata": {
        "id": "In21tJT2LngE",
        "colab_type": "code",
        "outputId": "743d5658-d48c-4879-9928-6eb8576c6c38",
        "colab": {
          "base_uri": "https://localhost:8080/",
          "height": 1000
        }
      },
      "source": [
        "import numpy\n",
        "import matplotlib.pyplot as plt\n",
        "from pandas import read_csv\n",
        "import math\n",
        "from keras.models import Sequential\n",
        "from keras.layers import Dense\n",
        "from keras.layers import LSTM\n",
        "from sklearn.preprocessing import MinMaxScaler\n",
        "from sklearn.metrics import mean_squared_error\n",
        "# convert an array of values into a dataset matrix\n",
        "def create_dataset(dataset, look_back=1):\n",
        "\tdataX, dataY = [], []\n",
        "\tfor i in range(len(dataset)-look_back-1):\n",
        "\t\ta = dataset[i:(i+look_back), 0]\n",
        "\t\tdataX.append(a)\n",
        "\t\tdataY.append(dataset[i + look_back, 0])\n",
        "\treturn numpy.array(dataX), numpy.array(dataY)\n",
        "# fix random seed for reproducibility\n",
        "numpy.random.seed(7)\n",
        "# load the dataset\n",
        "dataframe = read_csv('/content/airline-passengers.csv', usecols=[1], engine='python')\n",
        "dataset = dataframe.values\n",
        "dataset = dataset.astype('float32')\n",
        "# normalize the dataset\n",
        "scaler = MinMaxScaler(feature_range=(0, 1))\n",
        "dataset = scaler.fit_transform(dataset)\n",
        "# split into train and test sets\n",
        "train_size = int(len(dataset) * 0.67)\n",
        "test_size = len(dataset) - train_size\n",
        "train, test = dataset[0:train_size,:], dataset[train_size:len(dataset),:]\n",
        "# reshape into X=t and Y=t+1\n",
        "look_back = 3\n",
        "trainX, trainY = create_dataset(train, look_back)\n",
        "testX, testY = create_dataset(test, look_back)\n",
        "# reshape input to be [samples, time steps, features]\n",
        "trainX = numpy.reshape(trainX, (trainX.shape[0], trainX.shape[1], 1))\n",
        "testX = numpy.reshape(testX, (testX.shape[0], testX.shape[1], 1))\n",
        "# create and fit the LSTM network\n",
        "model = Sequential()\n",
        "model.add(LSTM(4, input_shape=(look_back, 1)))\n",
        "model.add(Dense(1))\n",
        "model.compile(loss='mean_squared_error', optimizer='adam')\n",
        "model.fit(trainX, trainY, epochs=100, batch_size=1, verbose=2)\n",
        "# make predictions\n",
        "trainPredict = model.predict(trainX)\n",
        "testPredict = model.predict(testX)\n",
        "# invert predictions\n",
        "trainPredict = scaler.inverse_transform(trainPredict)\n",
        "trainY = scaler.inverse_transform([trainY])\n",
        "testPredict = scaler.inverse_transform(testPredict)\n",
        "testY = scaler.inverse_transform([testY])\n",
        "# calculate root mean squared error\n",
        "trainScore = math.sqrt(mean_squared_error(trainY[0], trainPredict[:,0]))\n",
        "print('Train Score: %.2f RMSE' % (trainScore))\n",
        "testScore = math.sqrt(mean_squared_error(testY[0], testPredict[:,0]))\n",
        "print('Test Score: %.2f RMSE' % (testScore))\n",
        "# shift train predictions for plotting\n",
        "trainPredictPlot = numpy.empty_like(dataset)\n",
        "trainPredictPlot[:, :] = numpy.nan\n",
        "trainPredictPlot[look_back:len(trainPredict)+look_back, :] = trainPredict\n",
        "# shift test predictions for plotting\n",
        "testPredictPlot = numpy.empty_like(dataset)\n",
        "testPredictPlot[:, :] = numpy.nan\n",
        "testPredictPlot[len(trainPredict)+(look_back*2)+1:len(dataset)-1, :] = testPredict\n",
        "# plot baseline and predictions\n",
        "plt.plot(scaler.inverse_transform(dataset))\n",
        "plt.plot(trainPredictPlot)\n",
        "plt.plot(testPredictPlot)\n",
        "plt.show()"
      ],
      "execution_count": 0,
      "outputs": [
        {
          "output_type": "stream",
          "text": [
            "Epoch 1/100\n",
            " - 1s - loss: 0.0285\n",
            "Epoch 2/100\n",
            " - 0s - loss: 0.0117\n",
            "Epoch 3/100\n",
            " - 0s - loss: 0.0097\n",
            "Epoch 4/100\n",
            " - 0s - loss: 0.0086\n",
            "Epoch 5/100\n",
            " - 0s - loss: 0.0074\n",
            "Epoch 6/100\n",
            " - 0s - loss: 0.0065\n",
            "Epoch 7/100\n",
            " - 0s - loss: 0.0058\n",
            "Epoch 8/100\n",
            " - 0s - loss: 0.0053\n",
            "Epoch 9/100\n",
            " - 0s - loss: 0.0045\n",
            "Epoch 10/100\n",
            " - 0s - loss: 0.0044\n",
            "Epoch 11/100\n",
            " - 0s - loss: 0.0041\n",
            "Epoch 12/100\n",
            " - 0s - loss: 0.0041\n",
            "Epoch 13/100\n",
            " - 0s - loss: 0.0040\n",
            "Epoch 14/100\n",
            " - 0s - loss: 0.0039\n",
            "Epoch 15/100\n",
            " - 0s - loss: 0.0039\n",
            "Epoch 16/100\n",
            " - 0s - loss: 0.0039\n",
            "Epoch 17/100\n",
            " - 0s - loss: 0.0038\n",
            "Epoch 18/100\n",
            " - 0s - loss: 0.0039\n",
            "Epoch 19/100\n",
            " - 0s - loss: 0.0038\n",
            "Epoch 20/100\n",
            " - 0s - loss: 0.0038\n",
            "Epoch 21/100\n",
            " - 0s - loss: 0.0038\n",
            "Epoch 22/100\n",
            " - 0s - loss: 0.0038\n",
            "Epoch 23/100\n",
            " - 0s - loss: 0.0037\n",
            "Epoch 24/100\n",
            " - 0s - loss: 0.0038\n",
            "Epoch 25/100\n",
            " - 0s - loss: 0.0037\n",
            "Epoch 26/100\n",
            " - 0s - loss: 0.0038\n",
            "Epoch 27/100\n",
            " - 0s - loss: 0.0037\n",
            "Epoch 28/100\n",
            " - 0s - loss: 0.0038\n",
            "Epoch 29/100\n",
            " - 0s - loss: 0.0037\n",
            "Epoch 30/100\n",
            " - 0s - loss: 0.0036\n",
            "Epoch 31/100\n",
            " - 0s - loss: 0.0037\n",
            "Epoch 32/100\n",
            " - 0s - loss: 0.0036\n",
            "Epoch 33/100\n",
            " - 0s - loss: 0.0036\n",
            "Epoch 34/100\n",
            " - 0s - loss: 0.0036\n",
            "Epoch 35/100\n",
            " - 0s - loss: 0.0036\n",
            "Epoch 36/100\n",
            " - 0s - loss: 0.0035\n",
            "Epoch 37/100\n",
            " - 0s - loss: 0.0036\n",
            "Epoch 38/100\n",
            " - 0s - loss: 0.0035\n",
            "Epoch 39/100\n",
            " - 0s - loss: 0.0035\n",
            "Epoch 40/100\n",
            " - 0s - loss: 0.0035\n",
            "Epoch 41/100\n",
            " - 0s - loss: 0.0036\n",
            "Epoch 42/100\n",
            " - 0s - loss: 0.0035\n",
            "Epoch 43/100\n",
            " - 0s - loss: 0.0035\n",
            "Epoch 44/100\n",
            " - 0s - loss: 0.0034\n",
            "Epoch 45/100\n",
            " - 0s - loss: 0.0034\n",
            "Epoch 46/100\n",
            " - 0s - loss: 0.0035\n",
            "Epoch 47/100\n",
            " - 0s - loss: 0.0034\n",
            "Epoch 48/100\n",
            " - 0s - loss: 0.0034\n",
            "Epoch 49/100\n",
            " - 0s - loss: 0.0034\n",
            "Epoch 50/100\n",
            " - 0s - loss: 0.0033\n",
            "Epoch 51/100\n",
            " - 0s - loss: 0.0033\n",
            "Epoch 52/100\n",
            " - 0s - loss: 0.0033\n",
            "Epoch 53/100\n",
            " - 0s - loss: 0.0034\n",
            "Epoch 54/100\n",
            " - 0s - loss: 0.0033\n",
            "Epoch 55/100\n",
            " - 0s - loss: 0.0033\n",
            "Epoch 56/100\n",
            " - 0s - loss: 0.0032\n",
            "Epoch 57/100\n",
            " - 0s - loss: 0.0032\n",
            "Epoch 58/100\n",
            " - 0s - loss: 0.0033\n",
            "Epoch 59/100\n",
            " - 0s - loss: 0.0032\n",
            "Epoch 60/100\n",
            " - 0s - loss: 0.0032\n",
            "Epoch 61/100\n",
            " - 0s - loss: 0.0032\n",
            "Epoch 62/100\n",
            " - 0s - loss: 0.0031\n",
            "Epoch 63/100\n",
            " - 0s - loss: 0.0029\n",
            "Epoch 64/100\n",
            " - 0s - loss: 0.0033\n",
            "Epoch 65/100\n",
            " - 0s - loss: 0.0030\n",
            "Epoch 66/100\n",
            " - 0s - loss: 0.0030\n",
            "Epoch 67/100\n",
            " - 0s - loss: 0.0029\n",
            "Epoch 68/100\n",
            " - 0s - loss: 0.0030\n",
            "Epoch 69/100\n",
            " - 0s - loss: 0.0029\n",
            "Epoch 70/100\n",
            " - 0s - loss: 0.0029\n",
            "Epoch 71/100\n",
            " - 0s - loss: 0.0028\n",
            "Epoch 72/100\n",
            " - 0s - loss: 0.0029\n",
            "Epoch 73/100\n",
            " - 0s - loss: 0.0028\n",
            "Epoch 74/100\n",
            " - 0s - loss: 0.0028\n",
            "Epoch 75/100\n",
            " - 0s - loss: 0.0027\n",
            "Epoch 76/100\n",
            " - 0s - loss: 0.0026\n",
            "Epoch 77/100\n",
            " - 0s - loss: 0.0026\n",
            "Epoch 78/100\n",
            " - 0s - loss: 0.0026\n",
            "Epoch 79/100\n",
            " - 0s - loss: 0.0026\n",
            "Epoch 80/100\n",
            " - 0s - loss: 0.0025\n",
            "Epoch 81/100\n",
            " - 0s - loss: 0.0025\n",
            "Epoch 82/100\n",
            " - 0s - loss: 0.0024\n",
            "Epoch 83/100\n",
            " - 0s - loss: 0.0024\n",
            "Epoch 84/100\n",
            " - 0s - loss: 0.0024\n",
            "Epoch 85/100\n",
            " - 0s - loss: 0.0024\n",
            "Epoch 86/100\n",
            " - 0s - loss: 0.0022\n",
            "Epoch 87/100\n",
            " - 0s - loss: 0.0024\n",
            "Epoch 88/100\n",
            " - 0s - loss: 0.0023\n",
            "Epoch 89/100\n",
            " - 0s - loss: 0.0022\n",
            "Epoch 90/100\n",
            " - 0s - loss: 0.0022\n",
            "Epoch 91/100\n",
            " - 0s - loss: 0.0022\n",
            "Epoch 92/100\n",
            " - 0s - loss: 0.0022\n",
            "Epoch 93/100\n",
            " - 0s - loss: 0.0022\n",
            "Epoch 94/100\n",
            " - 0s - loss: 0.0021\n",
            "Epoch 95/100\n",
            " - 0s - loss: 0.0021\n",
            "Epoch 96/100\n",
            " - 0s - loss: 0.0021\n",
            "Epoch 97/100\n",
            " - 0s - loss: 0.0021\n",
            "Epoch 98/100\n",
            " - 0s - loss: 0.0020\n",
            "Epoch 99/100\n",
            " - 0s - loss: 0.0021\n",
            "Epoch 100/100\n",
            " - 0s - loss: 0.0020\n",
            "Train Score: 23.70 RMSE\n",
            "Test Score: 58.89 RMSE\n"
          ],
          "name": "stdout"
        },
        {
          "output_type": "display_data",
          "data": {
            "image/png": "[encoded data removed]",
            "text/plain": [
              "<Figure size 432x288 with 1 Axes>"
            ]
          },
          "metadata": {
            "tags": []
          }
        }
      ]
    }
  ]
}