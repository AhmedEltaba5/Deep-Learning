{
 "cells": [
  {
   "cell_type": "code",
   "execution_count": 1,
   "id": "166d4810",
   "metadata": {},
   "outputs": [],
   "source": [
    "import numpy as np\n",
    "import torch"
   ]
  },
  {
   "cell_type": "code",
   "execution_count": 2,
   "id": "eeeffa18",
   "metadata": {},
   "outputs": [
    {
     "data": {
      "text/plain": [
       "True"
      ]
     },
     "execution_count": 2,
     "metadata": {},
     "output_type": "execute_result"
    }
   ],
   "source": [
    "torch.cuda.is_available()"
   ]
  },
  {
   "cell_type": "code",
   "execution_count": 3,
   "id": "fbedc8f2",
   "metadata": {},
   "outputs": [
    {
     "name": "stdout",
     "output_type": "stream",
     "text": [
      "Wed Jun 16 23:46:31 2021       \n",
      "+-----------------------------------------------------------------------------+\n",
      "| NVIDIA-SMI 441.87       Driver Version: 441.87       CUDA Version: 10.2     |\n",
      "|-------------------------------+----------------------+----------------------+\n",
      "| GPU  Name            TCC/WDDM | Bus-Id        Disp.A | Volatile Uncorr. ECC |\n",
      "| Fan  Temp  Perf  Pwr:Usage/Cap|         Memory-Usage | GPU-Util  Compute M. |\n",
      "|===============================+======================+======================|\n",
      "|   0  GeForce RTX 2060   WDDM  | 00000000:01:00.0 Off |                  N/A |\n",
      "| N/A   49C    P8     4W /  N/A |    164MiB /  6144MiB |      0%      Default |\n",
      "+-------------------------------+----------------------+----------------------+\n",
      "                                                                               \n",
      "+-----------------------------------------------------------------------------+\n",
      "| Processes:                                                       GPU Memory |\n",
      "|  GPU       PID   Type   Process name                             Usage      |\n",
      "|=============================================================================|\n",
      "|  No running processes found                                                 |\n",
      "+-----------------------------------------------------------------------------+\n"
     ]
    }
   ],
   "source": [
    "!nvidia-smi"
   ]
  },
  {
   "cell_type": "code",
   "execution_count": 4,
   "id": "8e99316e",
   "metadata": {},
   "outputs": [
    {
     "data": {
      "text/plain": [
       "[[1, 2], [3, 4]]"
      ]
     },
     "execution_count": 4,
     "metadata": {},
     "output_type": "execute_result"
    }
   ],
   "source": [
    "some_data = [[1, 2], [3, 4]]\n",
    "some_data"
   ]
  },
  {
   "cell_type": "code",
   "execution_count": 5,
   "id": "5032db76",
   "metadata": {},
   "outputs": [
    {
     "data": {
      "text/plain": [
       "list"
      ]
     },
     "execution_count": 5,
     "metadata": {},
     "output_type": "execute_result"
    }
   ],
   "source": [
    "type(some_data)"
   ]
  },
  {
   "cell_type": "code",
   "execution_count": 6,
   "id": "85a8a153",
   "metadata": {},
   "outputs": [
    {
     "data": {
      "text/plain": [
       "array([[1, 2],\n",
       "       [3, 4]])"
      ]
     },
     "execution_count": 6,
     "metadata": {},
     "output_type": "execute_result"
    }
   ],
   "source": [
    "np.array(some_data)"
   ]
  },
  {
   "cell_type": "code",
   "execution_count": 7,
   "id": "6fe41a3e",
   "metadata": {},
   "outputs": [
    {
     "data": {
      "text/plain": [
       "array([[1, 2],\n",
       "       [3, 4]])"
      ]
     },
     "execution_count": 7,
     "metadata": {},
     "output_type": "execute_result"
    }
   ],
   "source": [
    "np.asarray(some_data)"
   ]
  },
  {
   "cell_type": "code",
   "execution_count": 8,
   "id": "3b0bcd02",
   "metadata": {},
   "outputs": [
    {
     "data": {
      "text/plain": [
       "tensor([[1, 2],\n",
       "        [3, 4]])"
      ]
     },
     "execution_count": 8,
     "metadata": {},
     "output_type": "execute_result"
    }
   ],
   "source": [
    "torch.tensor(some_data)"
   ]
  },
  {
   "cell_type": "code",
   "execution_count": 9,
   "id": "a9402746",
   "metadata": {},
   "outputs": [
    {
     "data": {
      "text/plain": [
       "tensor([[1, 2],\n",
       "        [3, 4]])"
      ]
     },
     "execution_count": 9,
     "metadata": {},
     "output_type": "execute_result"
    }
   ],
   "source": [
    "some_tensor = torch.tensor(some_data)\n",
    "some_tensor"
   ]
  },
  {
   "cell_type": "code",
   "execution_count": 10,
   "id": "e360d93a",
   "metadata": {},
   "outputs": [
    {
     "data": {
      "text/plain": [
       "torch.Tensor"
      ]
     },
     "execution_count": 10,
     "metadata": {},
     "output_type": "execute_result"
    }
   ],
   "source": [
    "type(some_tensor)"
   ]
  },
  {
   "cell_type": "code",
   "execution_count": 11,
   "id": "22261657",
   "metadata": {},
   "outputs": [
    {
     "data": {
      "text/plain": [
       "torch.int64"
      ]
     },
     "execution_count": 11,
     "metadata": {},
     "output_type": "execute_result"
    }
   ],
   "source": [
    "some_tensor.dtype"
   ]
  },
  {
   "cell_type": "code",
   "execution_count": 12,
   "id": "86f53729",
   "metadata": {},
   "outputs": [
    {
     "data": {
      "text/plain": [
       "array([[0.9931772 , 0.89678332, 0.1818014 , 0.03409466],\n",
       "       [0.18339485, 0.67802089, 0.08560888, 0.37804624],\n",
       "       [0.87673243, 0.99985222, 0.28521119, 0.68361965]])"
      ]
     },
     "execution_count": 12,
     "metadata": {},
     "output_type": "execute_result"
    }
   ],
   "source": [
    "np_arr = np.random.rand(3, 4)\n",
    "np_arr"
   ]
  },
  {
   "cell_type": "code",
   "execution_count": 13,
   "id": "da6c0567",
   "metadata": {},
   "outputs": [
    {
     "data": {
      "text/plain": [
       "tensor([[0.9932, 0.8968, 0.1818, 0.0341],\n",
       "        [0.1834, 0.6780, 0.0856, 0.3780],\n",
       "        [0.8767, 0.9999, 0.2852, 0.6836]], dtype=torch.float64)"
      ]
     },
     "execution_count": 13,
     "metadata": {},
     "output_type": "execute_result"
    }
   ],
   "source": [
    "torch.tensor(np_arr)"
   ]
  },
  {
   "cell_type": "code",
   "execution_count": 14,
   "id": "a5f4877a",
   "metadata": {},
   "outputs": [
    {
     "data": {
      "text/plain": [
       "tensor([[0.9932, 0.8968, 0.1818, 0.0341],\n",
       "        [0.1834, 0.6780, 0.0856, 0.3780],\n",
       "        [0.8767, 0.9999, 0.2852, 0.6836]], dtype=torch.float64)"
      ]
     },
     "execution_count": 14,
     "metadata": {},
     "output_type": "execute_result"
    }
   ],
   "source": [
    "torch.from_numpy(np_arr)"
   ]
  },
  {
   "cell_type": "code",
   "execution_count": 15,
   "id": "d287cec8",
   "metadata": {},
   "outputs": [
    {
     "data": {
      "text/plain": [
       "tensor([[1., 1., 1., 1.],\n",
       "        [1., 1., 1., 1.],\n",
       "        [1., 1., 1., 1.]])"
      ]
     },
     "execution_count": 15,
     "metadata": {},
     "output_type": "execute_result"
    }
   ],
   "source": [
    "torch.ones(3, 4)"
   ]
  },
  {
   "cell_type": "code",
   "execution_count": 16,
   "id": "3fb0c001",
   "metadata": {},
   "outputs": [
    {
     "data": {
      "text/plain": [
       "tensor([[0., 0., 0., 0.],\n",
       "        [0., 0., 0., 0.],\n",
       "        [0., 0., 0., 0.]])"
      ]
     },
     "execution_count": 16,
     "metadata": {},
     "output_type": "execute_result"
    }
   ],
   "source": [
    "torch.zeros(3, 4)"
   ]
  },
  {
   "cell_type": "code",
   "execution_count": 18,
   "id": "77f38955",
   "metadata": {},
   "outputs": [
    {
     "data": {
      "text/plain": [
       "tensor([[0.1414, 0.6067, 0.2778, 0.4528],\n",
       "        [0.7758, 0.3974, 0.7343, 0.1836],\n",
       "        [0.8198, 0.0553, 0.3536, 0.0691]])"
      ]
     },
     "execution_count": 18,
     "metadata": {},
     "output_type": "execute_result"
    }
   ],
   "source": [
    "my_tensor = torch.rand(3, 4)\n",
    "my_tensor"
   ]
  },
  {
   "cell_type": "code",
   "execution_count": 19,
   "id": "62e3db39",
   "metadata": {},
   "outputs": [
    {
     "data": {
      "text/plain": [
       "torch.float32"
      ]
     },
     "execution_count": 19,
     "metadata": {},
     "output_type": "execute_result"
    }
   ],
   "source": [
    "my_tensor.dtype"
   ]
  },
  {
   "cell_type": "code",
   "execution_count": 20,
   "id": "5f62f9dd",
   "metadata": {},
   "outputs": [
    {
     "data": {
      "text/plain": [
       "device(type='cpu')"
      ]
     },
     "execution_count": 20,
     "metadata": {},
     "output_type": "execute_result"
    }
   ],
   "source": [
    "my_tensor.device"
   ]
  },
  {
   "cell_type": "code",
   "execution_count": 21,
   "id": "3d88f448",
   "metadata": {},
   "outputs": [
    {
     "data": {
      "text/plain": [
       "tensor([[0.1414, 0.6067, 0.2778, 0.4528],\n",
       "        [0.7758, 0.3974, 0.7343, 0.1836],\n",
       "        [0.8198, 0.0553, 0.3536, 0.0691]], device='cuda:0')"
      ]
     },
     "execution_count": 21,
     "metadata": {},
     "output_type": "execute_result"
    }
   ],
   "source": [
    "my_tensor.to(\"cuda\")"
   ]
  },
  {
   "cell_type": "code",
   "execution_count": 22,
   "id": "ec338918",
   "metadata": {},
   "outputs": [],
   "source": [
    "my_tensor = my_tensor.to(\"cuda\")"
   ]
  },
  {
   "cell_type": "code",
   "execution_count": 23,
   "id": "3c93f3da",
   "metadata": {},
   "outputs": [
    {
     "data": {
      "text/plain": [
       "device(type='cuda', index=0)"
      ]
     },
     "execution_count": 23,
     "metadata": {},
     "output_type": "execute_result"
    }
   ],
   "source": [
    "my_tensor.device"
   ]
  },
  {
   "cell_type": "code",
   "execution_count": 24,
   "id": "8d2bc694",
   "metadata": {},
   "outputs": [
    {
     "data": {
      "text/plain": [
       "tensor([[0.6067, 0.2778],\n",
       "        [0.3974, 0.7343],\n",
       "        [0.0553, 0.3536]], device='cuda:0')"
      ]
     },
     "execution_count": 24,
     "metadata": {},
     "output_type": "execute_result"
    }
   ],
   "source": [
    "my_tensor[:, 1:3]"
   ]
  },
  {
   "cell_type": "code",
   "execution_count": 25,
   "id": "3a0ba68e",
   "metadata": {},
   "outputs": [
    {
     "data": {
      "text/plain": [
       "tensor([[0.1414, 0.6067, 0.2778, 0.4528],\n",
       "        [0.7758, 0.3974, 0.7343, 0.1836]], device='cuda:0')"
      ]
     },
     "execution_count": 25,
     "metadata": {},
     "output_type": "execute_result"
    }
   ],
   "source": [
    "my_tensor[:2, :]"
   ]
  },
  {
   "cell_type": "code",
   "execution_count": 26,
   "id": "d852e514",
   "metadata": {},
   "outputs": [
    {
     "data": {
      "text/plain": [
       "tensor([[0.0200, 0.3681, 0.0772, 0.2050],\n",
       "        [0.6019, 0.1579, 0.5391, 0.0337],\n",
       "        [0.6721, 0.0031, 0.1250, 0.0048]], device='cuda:0')"
      ]
     },
     "execution_count": 26,
     "metadata": {},
     "output_type": "execute_result"
    }
   ],
   "source": [
    "torch.mul(my_tensor, my_tensor)"
   ]
  },
  {
   "cell_type": "code",
   "execution_count": 27,
   "id": "8c86292e",
   "metadata": {},
   "outputs": [
    {
     "data": {
      "text/plain": [
       "tensor([[0.0200, 0.3681, 0.0772, 0.2050],\n",
       "        [0.6019, 0.1579, 0.5391, 0.0337],\n",
       "        [0.6721, 0.0031, 0.1250, 0.0048]], device='cuda:0')"
      ]
     },
     "execution_count": 27,
     "metadata": {},
     "output_type": "execute_result"
    }
   ],
   "source": [
    "my_tensor.mul(my_tensor)"
   ]
  },
  {
   "cell_type": "code",
   "execution_count": 28,
   "id": "08f4af87",
   "metadata": {},
   "outputs": [
    {
     "data": {
      "text/plain": [
       "tensor([[0.0200, 0.3681, 0.0772, 0.2050],\n",
       "        [0.6019, 0.1579, 0.5391, 0.0337],\n",
       "        [0.6721, 0.0031, 0.1250, 0.0048]], device='cuda:0')"
      ]
     },
     "execution_count": 28,
     "metadata": {},
     "output_type": "execute_result"
    }
   ],
   "source": [
    "my_tensor * my_tensor"
   ]
  },
  {
   "cell_type": "code",
   "execution_count": 30,
   "id": "585dca32",
   "metadata": {},
   "outputs": [
    {
     "data": {
      "text/plain": [
       "tensor([[0.6703, 0.6380, 0.2790],\n",
       "        [0.6380, 1.3326, 0.9303],\n",
       "        [0.2790, 0.9303, 0.8050]], device='cuda:0')"
      ]
     },
     "execution_count": 30,
     "metadata": {},
     "output_type": "execute_result"
    }
   ],
   "source": [
    "my_tensor.matmul(my_tensor.T)"
   ]
  },
  {
   "cell_type": "code",
   "execution_count": 31,
   "id": "57def5d9",
   "metadata": {},
   "outputs": [
    {
     "data": {
      "text/plain": [
       "tensor([[0.6703, 0.6380, 0.2790],\n",
       "        [0.6380, 1.3326, 0.9303],\n",
       "        [0.2790, 0.9303, 0.8050]], device='cuda:0')"
      ]
     },
     "execution_count": 31,
     "metadata": {},
     "output_type": "execute_result"
    }
   ],
   "source": [
    "torch.matmul(my_tensor, my_tensor.T)"
   ]
  },
  {
   "cell_type": "code",
   "execution_count": 33,
   "id": "64c00d18",
   "metadata": {},
   "outputs": [
    {
     "data": {
      "text/plain": [
       "tensor([[0.6703, 0.6380, 0.2790],\n",
       "        [0.6380, 1.3326, 0.9303],\n",
       "        [0.2790, 0.9303, 0.8050]], device='cuda:0')"
      ]
     },
     "execution_count": 33,
     "metadata": {},
     "output_type": "execute_result"
    }
   ],
   "source": [
    "my_tensor @ my_tensor.T"
   ]
  },
  {
   "cell_type": "code",
   "execution_count": 35,
   "id": "93e82786",
   "metadata": {},
   "outputs": [
    {
     "data": {
      "text/plain": [
       "tensor(4.8676, device='cuda:0')"
      ]
     },
     "execution_count": 35,
     "metadata": {},
     "output_type": "execute_result"
    }
   ],
   "source": [
    "my_tensor.sum()"
   ]
  },
  {
   "cell_type": "code",
   "execution_count": 36,
   "id": "4406fe05",
   "metadata": {},
   "outputs": [
    {
     "data": {
      "text/plain": [
       "tensor([1.4788, 2.0910, 1.2978], device='cuda:0')"
      ]
     },
     "execution_count": 36,
     "metadata": {},
     "output_type": "execute_result"
    }
   ],
   "source": [
    "my_tensor.sum(axis=1)"
   ]
  },
  {
   "cell_type": "code",
   "execution_count": 37,
   "id": "5f16631f",
   "metadata": {},
   "outputs": [
    {
     "data": {
      "text/plain": [
       "tensor([1.7370, 1.0594, 1.3657, 0.7055], device='cuda:0')"
      ]
     },
     "execution_count": 37,
     "metadata": {},
     "output_type": "execute_result"
    }
   ],
   "source": [
    "my_tensor.sum(axis=0)"
   ]
  },
  {
   "cell_type": "code",
   "execution_count": 39,
   "id": "59890902",
   "metadata": {},
   "outputs": [
    {
     "data": {
      "text/plain": [
       "tensor([[0.1414, 0.6067, 0.2778, 0.4528],\n",
       "        [0.7758, 0.3974, 0.7343, 0.1836],\n",
       "        [0.8198, 0.0553, 0.3536, 0.0691],\n",
       "        [0.1414, 0.6067, 0.2778, 0.4528],\n",
       "        [0.7758, 0.3974, 0.7343, 0.1836],\n",
       "        [0.8198, 0.0553, 0.3536, 0.0691]], device='cuda:0')"
      ]
     },
     "execution_count": 39,
     "metadata": {},
     "output_type": "execute_result"
    }
   ],
   "source": [
    "torch.cat([my_tensor, my_tensor])"
   ]
  },
  {
   "cell_type": "code",
   "execution_count": 42,
   "id": "07582424",
   "metadata": {},
   "outputs": [
    {
     "data": {
      "text/plain": [
       "tensor([[0.1414, 0.6067, 0.2778, 0.4528, 0.1414, 0.6067, 0.2778, 0.4528],\n",
       "        [0.7758, 0.3974, 0.7343, 0.1836, 0.7758, 0.3974, 0.7343, 0.1836],\n",
       "        [0.8198, 0.0553, 0.3536, 0.0691, 0.8198, 0.0553, 0.3536, 0.0691]],\n",
       "       device='cuda:0')"
      ]
     },
     "execution_count": 42,
     "metadata": {},
     "output_type": "execute_result"
    }
   ],
   "source": [
    "torch.cat([my_tensor, my_tensor], axis=1)"
   ]
  },
  {
   "cell_type": "code",
   "execution_count": 58,
   "id": "5058461e",
   "metadata": {},
   "outputs": [
    {
     "data": {
      "text/plain": [
       "tensor([[0.2059, 0.4189, 0.2734, 0.4089],\n",
       "        [0.3883, 0.3398, 0.4316, 0.3124],\n",
       "        [0.4058, 0.2413, 0.2950, 0.2786]], device='cuda:0')"
      ]
     },
     "execution_count": 58,
     "metadata": {},
     "output_type": "execute_result"
    }
   ],
   "source": [
    "torch.nn.functional.softmax(my_tensor, dim=0)#.sum(axis=0)"
   ]
  },
  {
   "cell_type": "code",
   "execution_count": 57,
   "id": "53bfc68a",
   "metadata": {},
   "outputs": [
    {
     "data": {
      "text/plain": [
       "tensor([[0.1959, 0.3120, 0.2246, 0.2675],\n",
       "        [0.3128, 0.2142, 0.3000, 0.1730],\n",
       "        [0.3899, 0.1815, 0.2446, 0.1840]], device='cuda:0')"
      ]
     },
     "execution_count": 57,
     "metadata": {},
     "output_type": "execute_result"
    }
   ],
   "source": [
    "torch.nn.functional.softmax(my_tensor, dim=1)#.sum(axis=1)"
   ]
  },
  {
   "cell_type": "code",
   "execution_count": 51,
   "id": "33d495ad",
   "metadata": {},
   "outputs": [
    {
     "data": {
      "text/plain": [
       "tensor([[0.5353, 0.6472, 0.5690, 0.6113],\n",
       "        [0.6848, 0.5981, 0.6757, 0.5458],\n",
       "        [0.6942, 0.5138, 0.5875, 0.5173]], device='cuda:0')"
      ]
     },
     "execution_count": 51,
     "metadata": {},
     "output_type": "execute_result"
    }
   ],
   "source": [
    "torch.nn.functional.sigmoid(my_tensor)"
   ]
  },
  {
   "cell_type": "code",
   "execution_count": 59,
   "id": "f809f66c",
   "metadata": {},
   "outputs": [
    {
     "data": {
      "text/plain": [
       "torch.Size([3, 4])"
      ]
     },
     "execution_count": 59,
     "metadata": {},
     "output_type": "execute_result"
    }
   ],
   "source": [
    "my_tensor.shape"
   ]
  },
  {
   "cell_type": "code",
   "execution_count": 66,
   "id": "68f71e00",
   "metadata": {},
   "outputs": [
    {
     "data": {
      "text/plain": [
       "torch.Size([3, 4])"
      ]
     },
     "execution_count": 66,
     "metadata": {},
     "output_type": "execute_result"
    }
   ],
   "source": [
    "my_tensor.size()"
   ]
  },
  {
   "cell_type": "code",
   "execution_count": 69,
   "id": "1c36df85",
   "metadata": {},
   "outputs": [
    {
     "data": {
      "text/plain": [
       "tensor([[[[0.7153, 0.1806, 0.2545,  ..., 0.9147, 0.4109, 0.3645],\n",
       "          [0.0233, 0.9103, 0.5606,  ..., 0.5543, 0.5383, 0.8472],\n",
       "          [0.5662, 0.2433, 0.7745,  ..., 0.5247, 0.8877, 0.3280],\n",
       "          ...,\n",
       "          [0.5694, 0.6870, 0.2550,  ..., 0.4036, 0.8572, 0.6935],\n",
       "          [0.3883, 0.4528, 0.1327,  ..., 0.1261, 0.9362, 0.1621],\n",
       "          [0.0271, 0.5181, 0.6185,  ..., 0.2526, 0.5853, 0.9561]],\n",
       "\n",
       "         [[0.3816, 0.1438, 0.3386,  ..., 0.4451, 0.9350, 0.6513],\n",
       "          [0.3096, 0.1589, 0.6874,  ..., 0.3346, 0.4097, 0.5132],\n",
       "          [0.1743, 0.7879, 0.9424,  ..., 0.7643, 0.3003, 0.3270],\n",
       "          ...,\n",
       "          [0.0341, 0.3620, 0.0166,  ..., 0.9868, 0.3813, 0.8505],\n",
       "          [0.6235, 0.1258, 0.3923,  ..., 0.9065, 0.9590, 0.5659],\n",
       "          [0.8877, 0.6103, 0.9884,  ..., 0.8395, 0.6602, 0.5031]],\n",
       "\n",
       "         [[0.5594, 0.2838, 0.2791,  ..., 0.1710, 0.5479, 0.4069],\n",
       "          [0.9017, 0.7654, 0.2953,  ..., 0.7637, 0.2024, 0.5793],\n",
       "          [0.5981, 0.6830, 0.4888,  ..., 0.3805, 0.8781, 0.5917],\n",
       "          ...,\n",
       "          [0.6880, 0.3368, 0.2559,  ..., 0.5941, 0.7819, 0.5267],\n",
       "          [0.9093, 0.1479, 0.5966,  ..., 0.7871, 0.9188, 0.2303],\n",
       "          [0.4818, 0.2362, 0.6349,  ..., 0.9006, 0.7978, 0.9667]]],\n",
       "\n",
       "\n",
       "        [[[0.0159, 0.3494, 0.7328,  ..., 0.9094, 0.5063, 0.7392],\n",
       "          [0.8609, 0.6394, 0.5922,  ..., 0.5687, 0.5966, 0.5785],\n",
       "          [0.0913, 0.7516, 0.0614,  ..., 0.5554, 0.3208, 0.1878],\n",
       "          ...,\n",
       "          [0.1450, 0.9102, 0.7619,  ..., 0.5076, 0.1363, 0.2839],\n",
       "          [0.6942, 0.7973, 0.9803,  ..., 0.6156, 0.3942, 0.3431],\n",
       "          [0.1780, 0.6193, 0.5963,  ..., 0.2945, 0.3049, 0.8183]],\n",
       "\n",
       "         [[0.4905, 0.2932, 0.0347,  ..., 0.8754, 0.3909, 0.3201],\n",
       "          [0.9876, 0.3129, 0.1827,  ..., 0.3541, 0.9374, 0.3741],\n",
       "          [0.2215, 0.5277, 0.9155,  ..., 0.4817, 0.6020, 0.3690],\n",
       "          ...,\n",
       "          [0.1446, 0.4682, 0.3306,  ..., 0.8365, 0.0857, 0.6855],\n",
       "          [0.0168, 0.1989, 0.6233,  ..., 0.2207, 0.5110, 0.4540],\n",
       "          [0.5416, 0.3156, 0.0084,  ..., 0.0122, 0.2768, 0.8414]],\n",
       "\n",
       "         [[0.2991, 0.6862, 0.6311,  ..., 0.3165, 0.7719, 0.2803],\n",
       "          [0.5957, 0.8004, 0.4175,  ..., 0.9102, 0.1866, 0.1452],\n",
       "          [0.0176, 0.8265, 0.8020,  ..., 0.4944, 0.0030, 0.6260],\n",
       "          ...,\n",
       "          [0.2894, 0.6328, 0.3936,  ..., 0.9153, 0.0740, 0.8088],\n",
       "          [0.2575, 0.5313, 0.3957,  ..., 0.8707, 0.3239, 0.6225],\n",
       "          [0.6593, 0.3447, 0.6617,  ..., 0.6991, 0.6277, 0.8990]]],\n",
       "\n",
       "\n",
       "        [[[0.3893, 0.4472, 0.3476,  ..., 0.6514, 0.3066, 0.4641],\n",
       "          [0.5023, 0.8043, 0.8467,  ..., 0.2858, 0.2851, 0.4984],\n",
       "          [0.1893, 0.0846, 0.0579,  ..., 0.9610, 0.0959, 0.5245],\n",
       "          ...,\n",
       "          [0.4169, 0.6303, 0.9174,  ..., 0.0320, 0.0247, 0.8811],\n",
       "          [0.1584, 0.0945, 0.1968,  ..., 0.3626, 0.3788, 0.1640],\n",
       "          [0.0725, 0.7202, 0.8789,  ..., 0.5379, 0.7198, 0.6230]],\n",
       "\n",
       "         [[0.5430, 0.8222, 0.9431,  ..., 0.3991, 0.2943, 0.0283],\n",
       "          [0.3673, 0.2415, 0.7787,  ..., 0.2691, 0.3194, 0.5380],\n",
       "          [0.9003, 0.4240, 0.6006,  ..., 0.0459, 0.7573, 0.9305],\n",
       "          ...,\n",
       "          [0.7688, 0.1760, 0.2838,  ..., 0.0824, 0.8878, 0.5342],\n",
       "          [0.9434, 0.6334, 0.3145,  ..., 0.7444, 0.2697, 0.8966],\n",
       "          [0.2888, 0.8450, 0.1917,  ..., 0.1135, 0.4189, 0.6569]],\n",
       "\n",
       "         [[0.7415, 0.9898, 0.6359,  ..., 0.3274, 0.8817, 0.6290],\n",
       "          [0.8825, 0.5470, 0.7742,  ..., 0.9767, 0.5168, 0.8801],\n",
       "          [0.5157, 0.6982, 0.1899,  ..., 0.2402, 0.6304, 0.2582],\n",
       "          ...,\n",
       "          [0.3326, 0.3502, 0.1167,  ..., 0.9819, 0.3463, 0.4822],\n",
       "          [0.2371, 0.2846, 0.0525,  ..., 0.5787, 0.9804, 0.5340],\n",
       "          [0.0530, 0.6031, 0.4770,  ..., 0.3589, 0.0679, 0.7879]]],\n",
       "\n",
       "\n",
       "        ...,\n",
       "\n",
       "\n",
       "        [[[0.2837, 0.4763, 0.8423,  ..., 0.4517, 0.6777, 0.2623],\n",
       "          [0.2487, 0.1308, 0.5692,  ..., 0.1696, 0.2065, 0.9725],\n",
       "          [0.5988, 0.8636, 0.5145,  ..., 0.8104, 0.1093, 0.0103],\n",
       "          ...,\n",
       "          [0.4537, 0.0729, 0.5069,  ..., 0.5906, 0.7092, 0.0296],\n",
       "          [0.6987, 0.8731, 0.1044,  ..., 0.2358, 0.8824, 0.2458],\n",
       "          [0.1048, 0.0080, 0.8726,  ..., 0.4136, 0.9044, 0.1326]],\n",
       "\n",
       "         [[0.7656, 0.6074, 0.1505,  ..., 0.8582, 0.4126, 0.5001],\n",
       "          [0.9838, 0.9783, 0.7630,  ..., 0.8475, 0.2178, 0.8111],\n",
       "          [0.4374, 0.2415, 0.4462,  ..., 0.5762, 0.3069, 0.5994],\n",
       "          ...,\n",
       "          [0.3585, 0.0043, 0.1033,  ..., 0.7291, 0.8118, 0.3578],\n",
       "          [0.5053, 0.5380, 0.9489,  ..., 0.1673, 0.9471, 0.8630],\n",
       "          [0.5716, 0.5382, 0.1534,  ..., 0.0790, 0.0178, 0.7806]],\n",
       "\n",
       "         [[0.6559, 0.5212, 0.0845,  ..., 0.0237, 0.8770, 0.0359],\n",
       "          [0.3335, 0.3945, 0.1767,  ..., 0.9339, 0.8088, 0.9434],\n",
       "          [0.2758, 0.7913, 0.8655,  ..., 0.4498, 0.9615, 0.2808],\n",
       "          ...,\n",
       "          [0.5267, 0.1756, 0.0725,  ..., 0.6868, 0.7541, 0.1120],\n",
       "          [0.3499, 0.5591, 0.0395,  ..., 0.9899, 0.4535, 0.0677],\n",
       "          [0.0999, 0.7238, 0.6470,  ..., 0.8727, 0.1550, 0.5006]]],\n",
       "\n",
       "\n",
       "        [[[0.0284, 0.8218, 0.4948,  ..., 0.7334, 0.4502, 0.1161],\n",
       "          [0.5461, 0.4553, 0.4158,  ..., 0.7756, 0.8519, 0.8359],\n",
       "          [0.6429, 0.0197, 0.6534,  ..., 0.6097, 0.5811, 0.8589],\n",
       "          ...,\n",
       "          [0.2742, 0.7521, 0.4009,  ..., 0.7095, 0.4761, 0.3988],\n",
       "          [0.8364, 0.2955, 0.9710,  ..., 0.7308, 0.7431, 0.6368],\n",
       "          [0.1042, 0.0962, 0.0855,  ..., 0.5537, 0.3952, 0.1231]],\n",
       "\n",
       "         [[0.4825, 0.1503, 0.0137,  ..., 0.5950, 0.6312, 0.8515],\n",
       "          [0.1311, 0.5905, 0.8488,  ..., 0.0362, 0.7254, 0.1487],\n",
       "          [0.3152, 0.9897, 0.9588,  ..., 0.6912, 0.1161, 0.1654],\n",
       "          ...,\n",
       "          [0.9981, 0.1428, 0.4877,  ..., 0.9933, 0.5380, 0.4528],\n",
       "          [0.6046, 0.1023, 0.4505,  ..., 0.3584, 0.1696, 0.5994],\n",
       "          [0.5284, 0.0927, 0.3422,  ..., 0.4630, 0.3364, 0.2428]],\n",
       "\n",
       "         [[0.5636, 0.2717, 0.0975,  ..., 0.6148, 0.2748, 0.1463],\n",
       "          [0.9061, 0.3492, 0.3923,  ..., 0.3498, 0.3093, 0.4660],\n",
       "          [0.7729, 0.9892, 0.4269,  ..., 0.1172, 0.3239, 0.7481],\n",
       "          ...,\n",
       "          [0.7763, 0.7165, 0.3169,  ..., 0.5292, 0.8664, 0.0086],\n",
       "          [0.9396, 0.3170, 0.8723,  ..., 0.0287, 0.6554, 0.7421],\n",
       "          [0.6130, 0.4868, 0.4992,  ..., 0.2038, 0.0428, 0.3730]]],\n",
       "\n",
       "\n",
       "        [[[0.2343, 0.4484, 0.3328,  ..., 0.7384, 0.3374, 0.7320],\n",
       "          [0.5174, 0.7680, 0.1254,  ..., 0.2237, 0.8420, 0.6952],\n",
       "          [0.9115, 0.7043, 0.1167,  ..., 0.1812, 0.2753, 0.0425],\n",
       "          ...,\n",
       "          [0.6439, 0.1658, 0.1391,  ..., 0.6919, 0.8807, 0.7916],\n",
       "          [0.1851, 0.4843, 0.6580,  ..., 0.9289, 0.1606, 0.0748],\n",
       "          [0.9991, 0.8957, 0.5508,  ..., 0.2609, 0.4759, 0.8124]],\n",
       "\n",
       "         [[0.9306, 0.5450, 0.9345,  ..., 0.4650, 0.2998, 0.6288],\n",
       "          [0.4823, 0.8850, 0.1857,  ..., 0.3792, 0.6193, 0.9188],\n",
       "          [0.8536, 0.8360, 0.1501,  ..., 0.7443, 0.3225, 0.3430],\n",
       "          ...,\n",
       "          [0.5716, 0.6087, 0.4216,  ..., 0.9372, 0.4985, 0.3151],\n",
       "          [0.4333, 0.6137, 0.4228,  ..., 0.5886, 0.0765, 0.0391],\n",
       "          [0.4927, 0.1611, 0.0241,  ..., 0.1406, 0.5094, 0.5545]],\n",
       "\n",
       "         [[0.5959, 0.0303, 0.8895,  ..., 0.1661, 0.7032, 0.9878],\n",
       "          [0.1343, 0.6355, 0.9886,  ..., 0.0934, 0.2890, 0.8621],\n",
       "          [0.9548, 0.3215, 0.6121,  ..., 0.3823, 0.2531, 0.9096],\n",
       "          ...,\n",
       "          [0.9331, 0.9200, 0.6905,  ..., 0.7351, 0.2850, 0.3510],\n",
       "          [0.2921, 0.5092, 0.4429,  ..., 0.9525, 0.2090, 0.3623],\n",
       "          [0.6183, 0.3424, 0.4155,  ..., 0.7717, 0.4102, 0.7345]]]])"
      ]
     },
     "execution_count": 69,
     "metadata": {},
     "output_type": "execute_result"
    }
   ],
   "source": [
    "torch.rand(10, 3, 128, 128) # batch size, channels, height, width"
   ]
  },
  {
   "cell_type": "code",
   "execution_count": 70,
   "id": "4a5bc6b5",
   "metadata": {},
   "outputs": [
    {
     "data": {
      "text/plain": [
       "torch.Size([10, 3, 128, 128])"
      ]
     },
     "execution_count": 70,
     "metadata": {},
     "output_type": "execute_result"
    }
   ],
   "source": [
    "torch.rand(10, 3, 128, 128).size()"
   ]
  },
  {
   "cell_type": "code",
   "execution_count": 71,
   "id": "f549f407",
   "metadata": {},
   "outputs": [
    {
     "data": {
      "text/plain": [
       "tensor([[0.1414, 0.6067, 0.2778, 0.4528],\n",
       "        [0.7758, 0.3974, 0.7343, 0.1836],\n",
       "        [0.8198, 0.0553, 0.3536, 0.0691]], device='cuda:0')"
      ]
     },
     "execution_count": 71,
     "metadata": {},
     "output_type": "execute_result"
    }
   ],
   "source": [
    "my_tensor"
   ]
  },
  {
   "cell_type": "code",
   "execution_count": 72,
   "id": "37660cd4",
   "metadata": {},
   "outputs": [
    {
     "data": {
      "text/plain": [
       "tensor([[0.2000, 0.6067, 0.2778, 0.4528],\n",
       "        [0.7758, 0.3974, 0.7343, 0.2000],\n",
       "        [0.8000, 0.2000, 0.3536, 0.2000]], device='cuda:0')"
      ]
     },
     "execution_count": 72,
     "metadata": {},
     "output_type": "execute_result"
    }
   ],
   "source": [
    "my_tensor.clip(.2, .8)"
   ]
  },
  {
   "cell_type": "code",
   "execution_count": 74,
   "id": "f575858e",
   "metadata": {},
   "outputs": [
    {
     "data": {
      "text/plain": [
       "tensor([[0.2000, 0.6067, 0.2778, 0.4528],\n",
       "        [0.7758, 0.3974, 0.7343, 0.2000],\n",
       "        [0.8000, 0.2000, 0.3536, 0.2000]], device='cuda:0')"
      ]
     },
     "execution_count": 74,
     "metadata": {},
     "output_type": "execute_result"
    }
   ],
   "source": [
    "my_tensor.clamp(0.2, 0.8)"
   ]
  },
  {
   "cell_type": "code",
   "execution_count": 79,
   "id": "ce842189",
   "metadata": {},
   "outputs": [
    {
     "data": {
      "text/plain": [
       "array([[0.14141071, 0.6066982 , 0.27784956, 0.45279944],\n",
       "       [0.7758069 , 0.39742166, 0.7342501 , 0.18356568],\n",
       "       [0.8198322 , 0.05526632, 0.35361207, 0.06910187]], dtype=float32)"
      ]
     },
     "execution_count": 79,
     "metadata": {},
     "output_type": "execute_result"
    }
   ],
   "source": [
    "my_tensor.cpu().detach().numpy()"
   ]
  },
  {
   "cell_type": "code",
   "execution_count": 82,
   "id": "bf0a75bc",
   "metadata": {},
   "outputs": [
    {
     "data": {
      "text/plain": [
       "tensor([[0., 0., 0., 0.],\n",
       "        [0., 0., 0., 0.],\n",
       "        [0., 0., 0., 0.]])"
      ]
     },
     "execution_count": 82,
     "metadata": {},
     "output_type": "execute_result"
    }
   ],
   "source": [
    "torch.empty(3, 4)"
   ]
  },
  {
   "cell_type": "code",
   "execution_count": null,
   "id": "6bee50f4",
   "metadata": {},
   "outputs": [],
   "source": []
  }
 ],
 "metadata": {
  "kernelspec": {
   "display_name": "Python (pytorch_env)",
   "language": "python",
   "name": "pytorch_env"
  },
  "language_info": {
   "codemirror_mode": {
    "name": "ipython",
    "version": 3
   },
   "file_extension": ".py",
   "mimetype": "text/x-python",
   "name": "python",
   "nbconvert_exporter": "python",
   "pygments_lexer": "ipython3",
   "version": "3.7.10"
  }
 },
 "nbformat": 4,
 "nbformat_minor": 5
}
