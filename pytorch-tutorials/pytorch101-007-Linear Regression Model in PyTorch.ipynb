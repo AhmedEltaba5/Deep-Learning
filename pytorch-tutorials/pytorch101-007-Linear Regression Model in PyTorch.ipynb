{
 "cells": [
  {
   "cell_type": "code",
   "execution_count": 1,
   "id": "4fabad21",
   "metadata": {},
   "outputs": [],
   "source": [
    "import numpy as np\n",
    "import torch\n",
    "from sklearn.datasets import make_classification\n",
    "from sklearn.model_selection import train_test_split\n",
    "from sklearn import metrics"
   ]
  },
  {
   "cell_type": "code",
   "execution_count": 2,
   "id": "d13684f1",
   "metadata": {},
   "outputs": [],
   "source": [
    "class CustomDataset:\n",
    "    \n",
    "    def __init__(self, data, targets):\n",
    "        self.data = data\n",
    "        self.targets = targets\n",
    "\n",
    "    def __len__(self):\n",
    "#         return len(self.data)\n",
    "        return self.data.shape[0]\n",
    "    \n",
    "    def __getitem__(self, idx):\n",
    "        current_sample = self.data[idx, :]\n",
    "        current_target = self.targets[idx]\n",
    "        return {\"x\": torch.tensor(current_sample, dtype=torch.float), \n",
    "               \"y\": torch.tensor(current_target, dtype=torch.long)\n",
    "               }\n",
    "    "
   ]
  },
  {
   "cell_type": "code",
   "execution_count": 3,
   "id": "ae638d0e",
   "metadata": {},
   "outputs": [],
   "source": [
    "x, y = make_classification(n_samples=1000, n_features=20, n_classes=2, random_state=100)"
   ]
  },
  {
   "cell_type": "code",
   "execution_count": 4,
   "id": "b0b4d193",
   "metadata": {},
   "outputs": [
    {
     "name": "stdout",
     "output_type": "stream",
     "text": [
      "(750, 20) (750,) (250, 20) (250,)\n"
     ]
    }
   ],
   "source": [
    "x_train, x_test, y_train, y_test = train_test_split(x, y, stratify=y, random_state=100) # test_size=0.2\n",
    "# stratify splits data into 75 % train set and 25 % validation or test set\n",
    "print(x_train.shape, y_train.shape, x_test.shape, y_test.shape)"
   ]
  },
  {
   "cell_type": "code",
   "execution_count": 5,
   "id": "d1282e1a",
   "metadata": {},
   "outputs": [],
   "source": [
    "train_dataset = CustomDataset(data=x_train, targets=y_train)\n",
    "test_dataset = CustomDataset(data=x_test, targets=y_test)"
   ]
  },
  {
   "cell_type": "code",
   "execution_count": 6,
   "id": "d97e704c",
   "metadata": {},
   "outputs": [
    {
     "data": {
      "text/plain": [
       "{'x': tensor([-0.2740,  0.6540, -0.4939, -0.9140, -1.2385, -0.9883,  1.7838, -0.9261,\n",
       "          0.4457, -0.0412, -1.1414,  0.1102, -2.2618, -0.8671,  0.6208,  0.7507,\n",
       "         -1.6332,  1.7366, -0.9487,  0.0370]),\n",
       " 'y': tensor(0)}"
      ]
     },
     "execution_count": 6,
     "metadata": {},
     "output_type": "execute_result"
    }
   ],
   "source": [
    "train_dataset[0]"
   ]
  },
  {
   "cell_type": "code",
   "execution_count": 7,
   "id": "c3cf2c28",
   "metadata": {},
   "outputs": [
    {
     "data": {
      "text/plain": [
       "{'x': tensor([-0.2740,  0.6540, -0.4939, -0.9140, -1.2385, -0.9883,  1.7838, -0.9261,\n",
       "          0.4457, -0.0412, -1.1414,  0.1102, -2.2618, -0.8671,  0.6208,  0.7507,\n",
       "         -1.6332,  1.7366, -0.9487,  0.0370]),\n",
       " 'y': tensor(0)}"
      ]
     },
     "execution_count": 7,
     "metadata": {},
     "output_type": "execute_result"
    }
   ],
   "source": [
    "train_dataset[0]"
   ]
  },
  {
   "cell_type": "code",
   "execution_count": 8,
   "id": "f9595b68",
   "metadata": {},
   "outputs": [],
   "source": [
    "train_loader = torch.utils.data.DataLoader(dataset=train_dataset, batch_size=4)\n",
    "test_loader = torch.utils.data.DataLoader(dataset=test_dataset, batch_size=4)"
   ]
  },
  {
   "cell_type": "code",
   "execution_count": 9,
   "id": "9ab79464",
   "metadata": {},
   "outputs": [
    {
     "data": {
      "text/plain": [
       "<function __main__.<lambda>(x, w, b)>"
      ]
     },
     "execution_count": 9,
     "metadata": {},
     "output_type": "execute_result"
    }
   ],
   "source": [
    "model = lambda x, w, b: torch.matmul(x, w) + b\n",
    "model"
   ]
  },
  {
   "cell_type": "code",
   "execution_count": 10,
   "id": "5d48e3dc",
   "metadata": {},
   "outputs": [],
   "source": [
    "w = torch.randn(20, 1, requires_grad=True)\n",
    "b = torch.randn(1, requires_grad=True)\n",
    "learning_rate = 0.001\n",
    "# print(\"weights\", w)\n",
    "# print(\"bias\", b)\n",
    "# print(\"lr\", learning_rate)"
   ]
  },
  {
   "cell_type": "code",
   "execution_count": 11,
   "id": "b7d786d8",
   "metadata": {},
   "outputs": [],
   "source": [
    "outputs = []\n",
    "labels = []\n",
    "with torch.no_grad():\n",
    "    for data in test_loader:\n",
    "        xtest = data[\"x\"]\n",
    "        ytest = data[\"y\"]\n",
    "        \n",
    "        output = model(xtest, w, b)\n",
    "        labels.append(ytest)\n",
    "        outputs.append(output)"
   ]
  },
  {
   "cell_type": "code",
   "execution_count": 12,
   "id": "23fd5731",
   "metadata": {},
   "outputs": [
    {
     "data": {
      "text/plain": [
       "0.6113671274961597"
      ]
     },
     "execution_count": 12,
     "metadata": {},
     "output_type": "execute_result"
    }
   ],
   "source": [
    "metrics.roc_auc_score(torch.cat(labels).view(-1), torch.cat(outputs).view(-1))"
   ]
  },
  {
   "cell_type": "code",
   "execution_count": 13,
   "id": "775b69a4",
   "metadata": {
    "scrolled": false
   },
   "outputs": [
    {
     "name": "stdout",
     "output_type": "stream",
     "text": [
      "0 19.579123447550103\n",
      "1 8.761709779183915\n",
      "2 4.116205718526815\n",
      "3 2.0112085712954717\n",
      "4 1.0253168032405542\n",
      "5 0.5540028300948758\n",
      "6 0.32564352434425753\n",
      "7 0.2139338352469767\n",
      "8 0.15887486499280945\n",
      "9 0.131565201118529\n"
     ]
    }
   ],
   "source": [
    "for epoch in range(10):\n",
    "#     print(\"*\"*50)\n",
    "#     print(\"EPOCH {}\".format(epoch))\n",
    "    epoch_loss = 0\n",
    "    counter = 0\n",
    "    \n",
    "    for data in train_loader:\n",
    "        xtrain = data[\"x\"]\n",
    "        ytrain = data[\"y\"]\n",
    "#         print(\"x train\", xtrain)\n",
    "#         print(\"y train\", ytrain)\n",
    "        \n",
    "        output = model(xtrain, w, b)\n",
    "#         print(\"output\", output)\n",
    "        loss = torch.mean((ytrain.view(-1) - output.view(-1))**2)\n",
    "#         print(\"loss\", loss)\n",
    "#         print(\"loss.item()\", loss.item())\n",
    "        epoch_loss = epoch_loss + loss.item()\n",
    "#         print(\"epoch loss\", epoch_loss)\n",
    "        loss.backward()\n",
    "        \n",
    "        with torch.no_grad():\n",
    "            w = w - learning_rate * w.grad\n",
    "            b = b - learning_rate * b.grad\n",
    "        \n",
    "        w.requires_grad_(True)\n",
    "        b.requires_grad_(True)\n",
    "#         print(w, b, \"\\n\")\n",
    "        counter += 1\n",
    "#         break\n",
    "    print(epoch, epoch_loss/counter)\n",
    "#     break\n",
    "        "
   ]
  },
  {
   "cell_type": "code",
   "execution_count": 14,
   "id": "479be04d",
   "metadata": {},
   "outputs": [],
   "source": [
    "outputs = []\n",
    "labels = []\n",
    "with torch.no_grad():\n",
    "    for data in test_loader:\n",
    "        xtest = data[\"x\"]\n",
    "        ytest = data[\"y\"]\n",
    "        \n",
    "        output = model(xtest, w, b)\n",
    "        labels.append(ytest)\n",
    "        outputs.append(output)"
   ]
  },
  {
   "cell_type": "code",
   "execution_count": 15,
   "id": "b13a656b",
   "metadata": {
    "scrolled": true
   },
   "outputs": [
    {
     "data": {
      "text/plain": [
       "[tensor([1, 0, 1, 1]),\n",
       " tensor([1, 1, 1, 0]),\n",
       " tensor([0, 0, 1, 1]),\n",
       " tensor([0, 0, 0, 0]),\n",
       " tensor([1, 1, 1, 0]),\n",
       " tensor([1, 1, 0, 0]),\n",
       " tensor([0, 1, 1, 1]),\n",
       " tensor([0, 0, 0, 0]),\n",
       " tensor([0, 0, 1, 0]),\n",
       " tensor([0, 1, 1, 1]),\n",
       " tensor([0, 0, 1, 1]),\n",
       " tensor([0, 0, 1, 0]),\n",
       " tensor([1, 1, 0, 1]),\n",
       " tensor([1, 0, 1, 1]),\n",
       " tensor([0, 0, 1, 1]),\n",
       " tensor([1, 0, 1, 1]),\n",
       " tensor([1, 1, 1, 0]),\n",
       " tensor([0, 0, 1, 1]),\n",
       " tensor([1, 1, 0, 1]),\n",
       " tensor([1, 0, 1, 1]),\n",
       " tensor([1, 0, 0, 1]),\n",
       " tensor([0, 1, 1, 0]),\n",
       " tensor([1, 0, 1, 1]),\n",
       " tensor([1, 1, 0, 0]),\n",
       " tensor([1, 1, 0, 0]),\n",
       " tensor([1, 1, 1, 0]),\n",
       " tensor([0, 1, 0, 1]),\n",
       " tensor([1, 1, 0, 0]),\n",
       " tensor([1, 0, 0, 1]),\n",
       " tensor([1, 0, 1, 1]),\n",
       " tensor([0, 1, 1, 0]),\n",
       " tensor([0, 1, 1, 1]),\n",
       " tensor([1, 1, 1, 0]),\n",
       " tensor([1, 1, 1, 0]),\n",
       " tensor([1, 1, 1, 0]),\n",
       " tensor([0, 1, 0, 0]),\n",
       " tensor([0, 1, 1, 0]),\n",
       " tensor([1, 0, 0, 1]),\n",
       " tensor([1, 0, 0, 0]),\n",
       " tensor([0, 0, 1, 0]),\n",
       " tensor([1, 0, 0, 1]),\n",
       " tensor([0, 0, 0, 1]),\n",
       " tensor([0, 0, 0, 0]),\n",
       " tensor([1, 1, 0, 0]),\n",
       " tensor([0, 0, 1, 0]),\n",
       " tensor([1, 1, 1, 0]),\n",
       " tensor([1, 0, 0, 0]),\n",
       " tensor([1, 0, 0, 1]),\n",
       " tensor([1, 1, 0, 1]),\n",
       " tensor([0, 0, 1, 0]),\n",
       " tensor([1, 1, 0, 1]),\n",
       " tensor([1, 1, 0, 0]),\n",
       " tensor([0, 1, 0, 0]),\n",
       " tensor([0, 1, 0, 0]),\n",
       " tensor([0, 1, 0, 0]),\n",
       " tensor([1, 0, 1, 0]),\n",
       " tensor([1, 0, 1, 1]),\n",
       " tensor([0, 1, 0, 1]),\n",
       " tensor([1, 0, 0, 0]),\n",
       " tensor([1, 0, 0, 0]),\n",
       " tensor([0, 0, 0, 1]),\n",
       " tensor([1, 0, 0, 1]),\n",
       " tensor([0, 1])]"
      ]
     },
     "execution_count": 15,
     "metadata": {},
     "output_type": "execute_result"
    }
   ],
   "source": [
    "labels"
   ]
  },
  {
   "cell_type": "code",
   "execution_count": 16,
   "id": "b5d8a017",
   "metadata": {
    "scrolled": true
   },
   "outputs": [
    {
     "data": {
      "text/plain": [
       "tensor([ 0.7736, -0.5553, -0.0949,  0.5119, -0.0343,  0.8114,  0.9362,  0.2969,\n",
       "         0.1744,  0.1623,  0.7285,  1.4850,  0.6090,  0.0743,  0.7295, -0.0654,\n",
       "         0.3553,  0.9316,  0.5529,  0.1256,  0.5378,  0.4631,  0.3301,  0.3506,\n",
       "         0.0496,  0.9745,  0.8053,  0.6819,  0.0946, -0.0531,  0.1678,  0.1004,\n",
       "         0.1931,  0.2425,  0.7688,  0.1355,  0.1624,  0.9868,  0.9980,  0.6318,\n",
       "         0.1212, -0.0498,  0.7989,  0.6447,  0.1406,  0.0437,  1.1816,  0.0732,\n",
       "         0.9684,  1.0331,  0.2809,  1.2671,  0.8795,  0.1199,  0.5137,  0.7925,\n",
       "         0.0310,  0.3874,  0.1777,  0.6879,  0.8900,  0.0926,  0.8282,  0.2396,\n",
       "         0.8880,  0.7886,  0.3704, -0.1239,  0.2673,  0.0558,  0.5957,  1.0128,\n",
       "         0.5097,  0.9002, -0.1877,  1.0733,  0.6327,  0.0707,  1.0683,  0.2833,\n",
       "         0.9055,  0.0600, -0.1283,  0.8490,  0.1706,  0.9508,  1.0699,  0.0274,\n",
       "         0.4305,  0.0997,  1.1695,  0.3748,  0.7266,  1.0284,  0.7576, -0.0357,\n",
       "         0.7809,  0.9658,  0.2748,  0.3678,  0.3757,  0.8169,  0.7245,  0.1082,\n",
       "        -0.1387,  1.0192,  0.1089,  0.7848,  0.8069,  0.1089, -0.2068,  0.6011,\n",
       "         0.2217,  0.0277,  0.0518,  0.6399,  0.5277,  0.2359,  0.5409,  0.5077,\n",
       "         0.2797,  1.0704,  0.5980,  0.5131,  0.2110,  0.8196,  0.3970,  0.4862,\n",
       "         0.8282,  0.6378,  0.7192, -0.0200,  1.0065,  1.1196,  0.4112,  0.1385,\n",
       "         0.8985,  0.5763,  0.2124, -0.1882,  0.3200,  0.8276, -0.0399, -0.3194,\n",
       "         0.3409,  0.5442,  1.2283, -0.4248,  0.9466, -0.0145,  0.4682,  0.9119,\n",
       "         1.1616,  0.1650,  0.1519, -0.0231,  0.0956, -0.0223,  0.9448,  0.0725,\n",
       "         0.1296,  0.3538, -0.0360,  0.5419, -0.0334, -0.2322,  0.7789,  0.7436,\n",
       "        -0.0483,  0.0868, -0.7100, -0.0478,  1.2242,  0.3963, -0.0645, -0.0680,\n",
       "        -0.2520, -0.0596,  1.1362,  0.1104,  0.6877,  1.2721,  0.9696, -0.0178,\n",
       "         0.7325,  0.1257,  0.0198,  0.3207,  0.8227,  0.1011,  0.0918,  1.1499,\n",
       "         0.4775,  0.8900,  0.0759,  1.1537,  0.0979,  0.2198,  0.4516, -0.0309,\n",
       "         0.5856,  1.0847,  0.0751,  0.7843,  0.5941,  0.4626, -0.3149,  0.1271,\n",
       "         0.5601,  1.1563,  0.2904,  0.1644,  0.2487,  0.4219,  0.1491,  0.0325,\n",
       "         0.3489,  1.3724,  0.0510,  0.1606,  0.5711,  0.1877,  0.4351,  0.2686,\n",
       "         1.0555, -0.0437,  0.6535,  0.5182,  0.0568,  0.8954,  0.1854,  0.2006,\n",
       "         0.7429,  0.0565,  0.1203,  0.0285,  0.6171,  0.3513,  0.2210,  0.3104,\n",
       "         0.0596, -0.1083,  0.1690,  0.6925,  0.6601, -0.0233,  0.1540,  0.6726,\n",
       "         0.0663,  1.2709])"
      ]
     },
     "execution_count": 16,
     "metadata": {},
     "output_type": "execute_result"
    }
   ],
   "source": [
    "torch.cat(outputs).view(-1)"
   ]
  },
  {
   "cell_type": "code",
   "execution_count": 17,
   "id": "3b8361c1",
   "metadata": {},
   "outputs": [
    {
     "data": {
      "text/plain": [
       "tensor([1, 0, 1, 1, 1, 1, 1, 0, 0, 0, 1, 1, 0, 0, 0, 0, 1, 1, 1, 0, 1, 1, 0, 0,\n",
       "        0, 1, 1, 1, 0, 0, 0, 0, 0, 0, 1, 0, 0, 1, 1, 1, 0, 0, 1, 1, 0, 0, 1, 0,\n",
       "        1, 1, 0, 1, 1, 0, 1, 1, 0, 0, 1, 1, 1, 0, 1, 1, 1, 1, 1, 0, 0, 0, 1, 1,\n",
       "        1, 1, 0, 1, 1, 0, 1, 1, 1, 0, 0, 1, 0, 1, 1, 0, 1, 0, 1, 1, 1, 1, 0, 0,\n",
       "        1, 1, 0, 0, 1, 1, 1, 0, 0, 1, 0, 1, 1, 1, 0, 0, 1, 0, 0, 1, 1, 0, 1, 1,\n",
       "        0, 1, 1, 0, 0, 1, 1, 1, 1, 1, 1, 0, 1, 1, 1, 0, 1, 1, 1, 0, 0, 1, 0, 0,\n",
       "        0, 1, 1, 0, 1, 0, 0, 1, 1, 0, 0, 0, 0, 0, 1, 0, 1, 0, 0, 1, 0, 0, 0, 1,\n",
       "        0, 0, 0, 0, 1, 1, 0, 0, 0, 0, 1, 0, 1, 1, 1, 0, 1, 0, 0, 0, 1, 0, 0, 1,\n",
       "        1, 1, 0, 1, 0, 0, 1, 0, 1, 1, 0, 1, 1, 1, 0, 0, 0, 1, 0, 0, 0, 1, 0, 0,\n",
       "        0, 1, 0, 0, 1, 0, 1, 0, 1, 0, 1, 1, 0, 1, 0, 1, 1, 0, 0, 0, 1, 0, 0, 0,\n",
       "        0, 0, 0, 1, 1, 0, 0, 1, 0, 1])"
      ]
     },
     "execution_count": 17,
     "metadata": {},
     "output_type": "execute_result"
    }
   ],
   "source": [
    "torch.cat(labels).view(-1)"
   ]
  },
  {
   "cell_type": "code",
   "execution_count": 18,
   "id": "8cba56df",
   "metadata": {},
   "outputs": [
    {
     "data": {
      "text/plain": [
       "0.9505248335893496"
      ]
     },
     "execution_count": 18,
     "metadata": {},
     "output_type": "execute_result"
    }
   ],
   "source": [
    "metrics.roc_auc_score(torch.cat(labels).view(-1), torch.cat(outputs).view(-1))"
   ]
  },
  {
   "cell_type": "code",
   "execution_count": null,
   "id": "124851dd",
   "metadata": {},
   "outputs": [],
   "source": []
  },
  {
   "cell_type": "code",
   "execution_count": null,
   "id": "e1f0d320",
   "metadata": {},
   "outputs": [],
   "source": []
  },
  {
   "cell_type": "code",
   "execution_count": null,
   "id": "50883f26",
   "metadata": {},
   "outputs": [],
   "source": []
  }
 ],
 "metadata": {
  "kernelspec": {
   "display_name": "Python (pytorch_env)",
   "language": "python",
   "name": "pytorch_env"
  },
  "language_info": {
   "codemirror_mode": {
    "name": "ipython",
    "version": 3
   },
   "file_extension": ".py",
   "mimetype": "text/x-python",
   "name": "python",
   "nbconvert_exporter": "python",
   "pygments_lexer": "ipython3",
   "version": "3.7.10"
  }
 },
 "nbformat": 4,
 "nbformat_minor": 5
}
