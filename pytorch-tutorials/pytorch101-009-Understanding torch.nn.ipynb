{
 "cells": [
  {
   "cell_type": "markdown",
   "id": "4ef41252",
   "metadata": {},
   "source": [
    "### Containers\n",
    "* Module\n",
    "* Sequential\n",
    "* ModuleList\n",
    "* ModuleDict\n",
    "\n",
    "### Layers\n",
    "* Conv1d\n",
    "* Conv2d\n",
    "* MaxPool1d\n",
    "* MaxPool2d\n",
    "* AvgPool1d\n",
    "* AvgPool2d\n",
    "* BatchNorm1d\n",
    "* BatchNorm2d\n",
    "* LayerNorm\n",
    "* LSTM\n",
    "* GRU\n",
    "* Linear\n",
    "* Dropout\n",
    "* Embedding\n",
    "* Transformer\n",
    "\n",
    "### Activations\n",
    "* ReLU\n",
    "* LeakyReLU\n",
    "* Sigmoid\n",
    "* Tanh\n",
    "* Softmax\n",
    "\n",
    "### Loss Functions\n",
    "* MSELoss\n",
    "* CrossEntropyLoss\n",
    "* NLLoss\n",
    "* BCELoss\n",
    "* BCEWithLogitsLoss"
   ]
  },
  {
   "cell_type": "code",
   "execution_count": 1,
   "id": "dc87ca3c",
   "metadata": {},
   "outputs": [],
   "source": [
    "import numpy as np\n",
    "import torch\n",
    "import torch.nn as nn"
   ]
  },
  {
   "cell_type": "code",
   "execution_count": 2,
   "id": "9f1ea817",
   "metadata": {},
   "outputs": [],
   "source": [
    "class Model(nn.Module):\n",
    "    \n",
    "    def __init__(self):\n",
    "        super().__init__()\n",
    "        self.layer1 = nn.Linear(128, 32)\n",
    "        self.layer2 = nn.Linear(32, 16)\n",
    "        self.layer3 = nn.Linear(16, 1)\n",
    "        \n",
    "    def forward(self, features):\n",
    "        x = self.layer1(features)\n",
    "        x = self.layer2(x)\n",
    "        x = self.layer3(x)\n",
    "        return x"
   ]
  },
  {
   "cell_type": "code",
   "execution_count": 3,
   "id": "b700cf8a",
   "metadata": {},
   "outputs": [],
   "source": [
    "model = Model()"
   ]
  },
  {
   "cell_type": "code",
   "execution_count": 4,
   "id": "db943521",
   "metadata": {},
   "outputs": [
    {
     "name": "stdout",
     "output_type": "stream",
     "text": [
      "Model(\n",
      "  (layer1): Linear(in_features=128, out_features=32, bias=True)\n",
      "  (layer2): Linear(in_features=32, out_features=16, bias=True)\n",
      "  (layer3): Linear(in_features=16, out_features=1, bias=True)\n",
      ")\n"
     ]
    }
   ],
   "source": [
    "print(model)"
   ]
  },
  {
   "cell_type": "code",
   "execution_count": 5,
   "id": "ff41fa47",
   "metadata": {},
   "outputs": [],
   "source": [
    "features = torch.rand(2, 128)"
   ]
  },
  {
   "cell_type": "code",
   "execution_count": 6,
   "id": "5028b0e0",
   "metadata": {},
   "outputs": [
    {
     "data": {
      "text/plain": [
       "tensor([[-0.0958],\n",
       "        [-0.0534]], grad_fn=<AddmmBackward>)"
      ]
     },
     "execution_count": 6,
     "metadata": {},
     "output_type": "execute_result"
    }
   ],
   "source": [
    "model(features)"
   ]
  },
  {
   "cell_type": "code",
   "execution_count": 7,
   "id": "c2bef739",
   "metadata": {},
   "outputs": [
    {
     "data": {
      "text/plain": [
       "device(type='cpu')"
      ]
     },
     "execution_count": 7,
     "metadata": {},
     "output_type": "execute_result"
    }
   ],
   "source": [
    "features.device"
   ]
  },
  {
   "cell_type": "code",
   "execution_count": 8,
   "id": "a7ceb5ce",
   "metadata": {},
   "outputs": [
    {
     "data": {
      "text/plain": [
       "tensor([[-0.1767],\n",
       "        [-0.1441]], device='cuda:0', grad_fn=<AddmmBackward>)"
      ]
     },
     "execution_count": 8,
     "metadata": {},
     "output_type": "execute_result"
    }
   ],
   "source": [
    "features = features.to(\"cuda\")\n",
    "model = Model()\n",
    "model.to(\"cuda\")\n",
    "model(features)"
   ]
  },
  {
   "cell_type": "code",
   "execution_count": 9,
   "id": "c7d4c775",
   "metadata": {},
   "outputs": [],
   "source": [
    "# !nvidia-smi"
   ]
  },
  {
   "cell_type": "code",
   "execution_count": null,
   "id": "adde5944",
   "metadata": {},
   "outputs": [],
   "source": []
  },
  {
   "cell_type": "code",
   "execution_count": 11,
   "id": "689af1f9",
   "metadata": {},
   "outputs": [],
   "source": [
    "class Model(nn.Module):\n",
    "    \n",
    "    def __init__(self):\n",
    "        super().__init__()\n",
    "        self.base = nn.Sequential(\n",
    "            nn.Linear(128, 32),\n",
    "            nn.Linear(32, 16),\n",
    "            nn.Linear(16, 1),\n",
    "        )\n",
    "        \n",
    "    def forward(self, features):\n",
    "        x = self.base(features)\n",
    "        return x"
   ]
  },
  {
   "cell_type": "code",
   "execution_count": 12,
   "id": "3749ff5a",
   "metadata": {},
   "outputs": [
    {
     "data": {
      "text/plain": [
       "tensor([[-0.5304],\n",
       "        [-0.5787]], device='cuda:0', grad_fn=<AddmmBackward>)"
      ]
     },
     "execution_count": 12,
     "metadata": {},
     "output_type": "execute_result"
    }
   ],
   "source": [
    "features = features.to(\"cuda\")\n",
    "model = Model()\n",
    "model.to(\"cuda\")\n",
    "model(features)"
   ]
  },
  {
   "cell_type": "code",
   "execution_count": null,
   "id": "89edae9b",
   "metadata": {},
   "outputs": [],
   "source": []
  }
 ],
 "metadata": {
  "kernelspec": {
   "display_name": "Python (pytorch_env)",
   "language": "python",
   "name": "pytorch_env"
  },
  "language_info": {
   "codemirror_mode": {
    "name": "ipython",
    "version": 3
   },
   "file_extension": ".py",
   "mimetype": "text/x-python",
   "name": "python",
   "nbconvert_exporter": "python",
   "pygments_lexer": "ipython3",
   "version": "3.7.10"
  }
 },
 "nbformat": 4,
 "nbformat_minor": 5
}
