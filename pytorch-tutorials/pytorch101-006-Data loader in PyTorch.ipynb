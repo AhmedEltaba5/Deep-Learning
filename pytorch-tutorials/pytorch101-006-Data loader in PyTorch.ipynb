{
 "cells": [
  {
   "cell_type": "code",
   "execution_count": 1,
   "id": "e253f139",
   "metadata": {},
   "outputs": [],
   "source": [
    "import numpy as np\n",
    "from sklearn.datasets import make_classification\n",
    "import torch"
   ]
  },
  {
   "cell_type": "code",
   "execution_count": 17,
   "id": "b9fca5e5",
   "metadata": {},
   "outputs": [],
   "source": [
    "class CustomDataset:\n",
    "    \n",
    "    def __init__(self, data, targets):\n",
    "        self.data = data\n",
    "        self.targets = targets\n",
    "\n",
    "    def __len__(self):\n",
    "#         return len(self.data)\n",
    "        return self.data.shape[0]\n",
    "    \n",
    "    def __getitem__(self, idx):\n",
    "        current_sample = self.data[idx, :]\n",
    "        current_target = self.targets[idx]\n",
    "        return {\"x\": torch.tensor(current_sample, dtype=torch.float), \n",
    "               \"y\": torch.tensor(current_target, dtype=torch.long)\n",
    "               }\n",
    "    "
   ]
  },
  {
   "cell_type": "code",
   "execution_count": 18,
   "id": "87839394",
   "metadata": {},
   "outputs": [],
   "source": [
    "x, y = make_classification(n_samples=1000, n_features=20, n_classes=2, random_state=100)"
   ]
  },
  {
   "cell_type": "code",
   "execution_count": 19,
   "id": "8638eb73",
   "metadata": {},
   "outputs": [],
   "source": [
    "dataset = CustomDataset(data=x, targets=y)"
   ]
  },
  {
   "cell_type": "code",
   "execution_count": 20,
   "id": "9b16d585",
   "metadata": {},
   "outputs": [
    {
     "data": {
      "text/plain": [
       "1000"
      ]
     },
     "execution_count": 20,
     "metadata": {},
     "output_type": "execute_result"
    }
   ],
   "source": [
    "len(dataset)"
   ]
  },
  {
   "cell_type": "code",
   "execution_count": 21,
   "id": "a041a3e8",
   "metadata": {},
   "outputs": [
    {
     "data": {
      "text/plain": [
       "{'x': tensor([-0.6443,  1.1886,  0.1689,  1.3521,  1.4105, -0.3202, -0.0570,  0.5332,\n",
       "         -0.4210,  0.4642, -0.4099, -1.1024, -1.3685, -1.1784, -1.2331,  0.0562,\n",
       "         -0.5674, -0.7757,  1.1770, -1.5067]),\n",
       " 'y': tensor(1)}"
      ]
     },
     "execution_count": 21,
     "metadata": {},
     "output_type": "execute_result"
    }
   ],
   "source": [
    "dataset[125]"
   ]
  },
  {
   "cell_type": "code",
   "execution_count": 22,
   "id": "d489efba",
   "metadata": {},
   "outputs": [],
   "source": [
    "# ?torch.utils.data.DataLoader"
   ]
  },
  {
   "cell_type": "code",
   "execution_count": 23,
   "id": "fca8568d",
   "metadata": {},
   "outputs": [],
   "source": [
    "train_loader = torch.utils.data.DataLoader(dataset=dataset, batch_size=4)"
   ]
  },
  {
   "cell_type": "code",
   "execution_count": 24,
   "id": "929ccc20",
   "metadata": {},
   "outputs": [
    {
     "name": "stdout",
     "output_type": "stream",
     "text": [
      "torch.Size([4, 20]) torch.Size([4])\n"
     ]
    }
   ],
   "source": [
    "for data in train_loader:\n",
    "    print(data[\"x\"].shape, data[\"y\"].shape)\n",
    "    break"
   ]
  },
  {
   "cell_type": "code",
   "execution_count": null,
   "id": "99ad880c",
   "metadata": {},
   "outputs": [],
   "source": []
  }
 ],
 "metadata": {
  "kernelspec": {
   "display_name": "Python (pytorch_env)",
   "language": "python",
   "name": "pytorch_env"
  },
  "language_info": {
   "codemirror_mode": {
    "name": "ipython",
    "version": 3
   },
   "file_extension": ".py",
   "mimetype": "text/x-python",
   "name": "python",
   "nbconvert_exporter": "python",
   "pygments_lexer": "ipython3",
   "version": "3.7.10"
  }
 },
 "nbformat": 4,
 "nbformat_minor": 5
}
