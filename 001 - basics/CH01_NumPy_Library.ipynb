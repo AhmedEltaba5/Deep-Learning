{
  "nbformat": 4,
  "nbformat_minor": 0,
  "metadata": {
    "colab": {
      "name": "numpy_tutorial.ipynb",
      "provenance": [],
      "collapsed_sections": []
    },
    "kernelspec": {
      "name": "python3",
      "display_name": "Python 3"
    }
  },
  "cells": [
    {
      "cell_type": "code",
      "metadata": {
        "id": "9Tl8AQuosm37",
        "colab_type": "code",
        "colab": {}
      },
      "source": [
        ""
      ],
      "execution_count": 0,
      "outputs": []
    },
    {
      "cell_type": "markdown",
      "metadata": {
        "id": "Q5AD5srHvEf6",
        "colab_type": "text"
      },
      "source": [
        ""
      ]
    },
    {
      "cell_type": "markdown",
      "metadata": {
        "id": "U1eepV8WtJYA",
        "colab_type": "text"
      },
      "source": [
        "whats numpy ?\n",
        "\n",
        "its a main library in python that deals with scientific computing, it provides high performance multi-dimensional array object ie: can deal with more than one dimensional array (2x2, 3x3....etc), not only but also it facilitates the use of the mathematical operations in case of dealing with such arrays \n",
        "\n"
      ]
    },
    {
      "cell_type": "markdown",
      "metadata": {
        "id": "wr0dLiprvGHL",
        "colab_type": "text"
      },
      "source": [
        "traditional arrays(python_lists) vs Numpy arrays\n",
        "\n",
        "\n",
        "The main benefits of using NumPy arrays should be smaller memory consumption and better runtime behavior. \n",
        "\n"
      ]
    },
    {
      "cell_type": "markdown",
      "metadata": {
        "id": "VidnRbPCRJNc",
        "colab_type": "text"
      },
      "source": [
        "# **One dimentional array**"
      ]
    },
    {
      "cell_type": "code",
      "metadata": {
        "id": "kDPdF8M7uRri",
        "colab_type": "code",
        "outputId": "c129b614-4630-4964-bb43-4ffed06da03d",
        "colab": {
          "base_uri": "https://localhost:8080/",
          "height": 34
        }
      },
      "source": [
        "import numpy as np \n",
        "#define an array of numpy\n",
        "\n",
        "my_array=np.array([10,20,30,40])\n",
        "print(my_array)"
      ],
      "execution_count": 0,
      "outputs": [
        {
          "output_type": "stream",
          "text": [
            "[10 20 30 40]\n"
          ],
          "name": "stdout"
        }
      ]
    },
    {
      "cell_type": "code",
      "metadata": {
        "id": "gN3-NBPXv7DQ",
        "colab_type": "code",
        "outputId": "848f2db7-b2e5-47dd-9e55-691fa8428a3b",
        "colab": {
          "base_uri": "https://localhost:8080/",
          "height": 34
        }
      },
      "source": [
        "print(type(my_array))"
      ],
      "execution_count": 0,
      "outputs": [
        {
          "output_type": "stream",
          "text": [
            "<class 'numpy.ndarray'>\n"
          ],
          "name": "stdout"
        }
      ]
    },
    {
      "cell_type": "code",
      "metadata": {
        "id": "FLBdy-b0wJIB",
        "colab_type": "code",
        "outputId": "b8b355ab-7b41-4c3e-b2da-85ab5e359f95",
        "colab": {
          "base_uri": "https://localhost:8080/",
          "height": 34
        }
      },
      "source": [
        "print(my_array.shape) "
      ],
      "execution_count": 0,
      "outputs": [
        {
          "output_type": "stream",
          "text": [
            "(4,)\n"
          ],
          "name": "stdout"
        }
      ]
    },
    {
      "cell_type": "markdown",
      "metadata": {
        "id": "503d0SSqwRH2",
        "colab_type": "text"
      },
      "source": [
        "what does the (4,) means ?\n",
        "it identifies the number of rows this numpy array contains , ie: 4x1 array or in others words first class array "
      ]
    },
    {
      "cell_type": "markdown",
      "metadata": {
        "id": "nE0dpp70wqfT",
        "colab_type": "text"
      },
      "source": [
        "to change ana element in the numpy array , simply refere to the element index and assign the your desired value "
      ]
    },
    {
      "cell_type": "code",
      "metadata": {
        "id": "27nkKFnqw3Vr",
        "colab_type": "code",
        "outputId": "9dafc34f-94d5-45f5-cbb0-4d7f2628c044",
        "colab": {
          "base_uri": "https://localhost:8080/",
          "height": 34
        }
      },
      "source": [
        "my_array[0]=15\n",
        "print(my_array)"
      ],
      "execution_count": 0,
      "outputs": [
        {
          "output_type": "stream",
          "text": [
            "[15 20 30 40]\n"
          ],
          "name": "stdout"
        }
      ]
    },
    {
      "cell_type": "markdown",
      "metadata": {
        "id": "S2j5jwNTRbbx",
        "colab_type": "text"
      },
      "source": [
        "# **Multidimensional Arrays**"
      ]
    },
    {
      "cell_type": "markdown",
      "metadata": {
        "id": "HkCEKWDgw_Q7",
        "colab_type": "text"
      },
      "source": [
        "now lets create a multi-dimensional array of dimensions (rank 2 )"
      ]
    },
    {
      "cell_type": "code",
      "metadata": {
        "id": "Izjkk7wGxGpx",
        "colab_type": "code",
        "outputId": "834ee478-205f-4614-a44e-17fda37c3791",
        "colab": {
          "base_uri": "https://localhost:8080/",
          "height": 52
        }
      },
      "source": [
        "my_new_array=np.array([[10,20,30,40],[50,60,70,80]])\n",
        "print(my_new_array)"
      ],
      "execution_count": 0,
      "outputs": [
        {
          "output_type": "stream",
          "text": [
            "[[10 20 30 40]\n",
            " [50 60 70 80]]\n"
          ],
          "name": "stdout"
        }
      ]
    },
    {
      "cell_type": "code",
      "metadata": {
        "id": "1SF3njA5xc1y",
        "colab_type": "code",
        "outputId": "15bfdc0a-31cd-4184-f8c9-8ab7a0f5122c",
        "colab": {
          "base_uri": "https://localhost:8080/",
          "height": 34
        }
      },
      "source": [
        "print(type(my_new_array))"
      ],
      "execution_count": 0,
      "outputs": [
        {
          "output_type": "stream",
          "text": [
            "<class 'numpy.ndarray'>\n"
          ],
          "name": "stdout"
        }
      ]
    },
    {
      "cell_type": "code",
      "metadata": {
        "id": "juH-Tq17xh7m",
        "colab_type": "code",
        "outputId": "266211ed-e29d-4bf3-94a8-36fb0f9bb61b",
        "colab": {
          "base_uri": "https://localhost:8080/",
          "height": 34
        }
      },
      "source": [
        "print(my_new_array.shape)"
      ],
      "execution_count": 0,
      "outputs": [
        {
          "output_type": "stream",
          "text": [
            "(2, 4)\n"
          ],
          "name": "stdout"
        }
      ]
    },
    {
      "cell_type": "markdown",
      "metadata": {
        "id": "NRDw8lgpxr5s",
        "colab_type": "text"
      },
      "source": [
        "2x4 array 2 rows and 4 columns \n",
        "what if we want to print 2x2 array in numpy ?"
      ]
    },
    {
      "cell_type": "code",
      "metadata": {
        "id": "FSDzQgqgx4GX",
        "colab_type": "code",
        "outputId": "d98c68b3-38f2-4812-91a6-716970868137",
        "colab": {
          "base_uri": "https://localhost:8080/",
          "height": 69
        }
      },
      "source": [
        "x=np.array([[1,2],[3,4]])\n",
        "print (x)\n",
        "print(x.shape)"
      ],
      "execution_count": 0,
      "outputs": [
        {
          "output_type": "stream",
          "text": [
            "[[1 2]\n",
            " [3 4]]\n",
            "(2, 2)\n"
          ],
          "name": "stdout"
        }
      ]
    },
    {
      "cell_type": "markdown",
      "metadata": {
        "id": "BrhTM3q8RoJR",
        "colab_type": "text"
      },
      "source": [
        "# **Indexing and Slicing Arrays**"
      ]
    },
    {
      "cell_type": "markdown",
      "metadata": {
        "id": "IafvBRDQyV94",
        "colab_type": "text"
      },
      "source": [
        "refering to index-value \n",
        "it means that we want to call a value by its index , let us see how this is done"
      ]
    },
    {
      "cell_type": "code",
      "metadata": {
        "id": "4QFP2nseyifW",
        "colab_type": "code",
        "outputId": "0078c846-2d6c-46ec-c73f-5846ea46e2b5",
        "colab": {
          "base_uri": "https://localhost:8080/",
          "height": 86
        }
      },
      "source": [
        "y=np.array([1,2,3,4,5,6,7])\n",
        "print(y)\n",
        "print (y.shape )\n",
        "#let us print the first element of this numpy array denoted by the index zero \n",
        "#just a reminder the element in the array = index-1\n",
        "#element value which is equal to one is considered the first element in the numpy \n",
        "#with index of zero\n",
        "\n",
        "\n",
        "print(\"first element in the numpy array:\",y[0])\n",
        "\n",
        "#if we want to print elements from index 0 to 3\n",
        "print(\"first three elements are\",y[0:3])"
      ],
      "execution_count": 0,
      "outputs": [
        {
          "output_type": "stream",
          "text": [
            "[1 2 3 4 5 6 7]\n",
            "(7,)\n",
            "first element in the numpy array: 1\n",
            "first three elements are [1 2 3]\n"
          ],
          "name": "stdout"
        }
      ]
    },
    {
      "cell_type": "markdown",
      "metadata": {
        "id": "nQbd6QleQGXa",
        "colab_type": "text"
      },
      "source": [
        "# **Creating Automatic Arrays**\n",
        "\n"
      ]
    },
    {
      "cell_type": "markdown",
      "metadata": {
        "colab_type": "text",
        "id": "rh-GRhDHQcYg"
      },
      "source": [
        "\n",
        "1.   creating zeros array\n",
        "2.   creating ones array\n",
        "3.   creating constant_type arrays\n",
        "4.   creating identity array(identity_matrix)\n",
        "5.   creating random_type_arrays\n",
        "\n"
      ]
    },
    {
      "cell_type": "code",
      "metadata": {
        "id": "y0w9lqil0evX",
        "colab_type": "code",
        "outputId": "045038b6-d91e-453b-bc67-99d7dc7842e8",
        "colab": {
          "base_uri": "https://localhost:8080/",
          "height": 69
        }
      },
      "source": [
        "import numpy as np \n",
        "\n",
        "#creating an automatic_zeros_array\n",
        "zero_array=np.zeros((3,3))\n",
        "print(zero_array)"
      ],
      "execution_count": 0,
      "outputs": [
        {
          "output_type": "stream",
          "text": [
            "[[0. 0. 0.]\n",
            " [0. 0. 0.]\n",
            " [0. 0. 0.]]\n"
          ],
          "name": "stdout"
        }
      ]
    },
    {
      "cell_type": "code",
      "metadata": {
        "id": "RGbX85qX05Eg",
        "colab_type": "code",
        "outputId": "5ce16048-82c6-49b8-fc71-1c959c3c8760",
        "colab": {
          "base_uri": "https://localhost:8080/",
          "height": 69
        }
      },
      "source": [
        "#creating an automatic ones array\n",
        "one_array=np.ones((3,3))\n",
        "print(one_array)"
      ],
      "execution_count": 0,
      "outputs": [
        {
          "output_type": "stream",
          "text": [
            "[[1. 1. 1.]\n",
            " [1. 1. 1.]\n",
            " [1. 1. 1.]]\n"
          ],
          "name": "stdout"
        }
      ]
    },
    {
      "cell_type": "code",
      "metadata": {
        "id": "9v9qH4B91IVY",
        "colab_type": "code",
        "outputId": "bc4b7b7d-8c42-4e98-f77c-47ed7a2635a9",
        "colab": {
          "base_uri": "https://localhost:8080/",
          "height": 69
        }
      },
      "source": [
        "#creating constant type array, here we should choose a number that will be constant\n",
        "#and pass it to the numpy array , i choose here no.7\n",
        "c_array=np.full((3,3),7)\n",
        "print(c_array)"
      ],
      "execution_count": 0,
      "outputs": [
        {
          "output_type": "stream",
          "text": [
            "[[7 7 7]\n",
            " [7 7 7]\n",
            " [7 7 7]]\n"
          ],
          "name": "stdout"
        }
      ]
    },
    {
      "cell_type": "code",
      "metadata": {
        "id": "jPAyNZQX16Xk",
        "colab_type": "code",
        "outputId": "7e0ede8a-5d64-4468-f1c1-bcc8f9a4b4a4",
        "colab": {
          "base_uri": "https://localhost:8080/",
          "height": 69
        }
      },
      "source": [
        "#the identity matrix eye_array\n",
        "eye_matrix=np.eye(3)\n",
        "print(eye_matrix)"
      ],
      "execution_count": 0,
      "outputs": [
        {
          "output_type": "stream",
          "text": [
            "[[1. 0. 0.]\n",
            " [0. 1. 0.]\n",
            " [0. 0. 1.]]\n"
          ],
          "name": "stdout"
        }
      ]
    },
    {
      "cell_type": "code",
      "metadata": {
        "id": "eEKVVBCK2M1S",
        "colab_type": "code",
        "outputId": "e7840f3e-e864-4ca8-c1f0-b340b2060ef2",
        "colab": {
          "base_uri": "https://localhost:8080/",
          "height": 52
        }
      },
      "source": [
        "#the random array\n",
        "R=np.random.random((3,3))\n",
        "print(R[0:2])\n"
      ],
      "execution_count": 0,
      "outputs": [
        {
          "output_type": "stream",
          "text": [
            "[[0.30514008 0.17476268 0.46972854]\n",
            " [0.50773496 0.87458546 0.4047024 ]]\n"
          ],
          "name": "stdout"
        }
      ]
    },
    {
      "cell_type": "markdown",
      "metadata": {
        "id": "kWXM-a4y41H7",
        "colab_type": "text"
      },
      "source": [
        "# **NumPy Data Types** \n",
        "we will go for now for 3 main data types in numbers(we wont talk about strings now)\n",
        "\n",
        "1.   integers \n",
        "2.   floats ( pointed numbers )\n",
        "3.   complex numbers ( rarely used in our course)\n"
      ]
    },
    {
      "cell_type": "code",
      "metadata": {
        "id": "KY8fqW6y43Bl",
        "colab_type": "code",
        "outputId": "f6c31b09-b046-4192-9a35-cc2cd11f5ce3",
        "colab": {
          "base_uri": "https://localhost:8080/",
          "height": 69
        }
      },
      "source": [
        "import numpy as np\n",
        "\n",
        "x = np.array([1, 2])   # Let numpy choose the datatype\n",
        "print(x.dtype)         # Prints \"int64\"\n",
        "\n",
        "x = np.array([1.0, 2.0])   # Let numpy choose the datatype\n",
        "print(x.dtype)             # Prints \"float64\"\n",
        "\n",
        "x = np.array([1, 2], dtype=np.int64)   # Force a particular datatype\n",
        "print(x.dtype) "
      ],
      "execution_count": 0,
      "outputs": [
        {
          "output_type": "stream",
          "text": [
            "int64\n",
            "float64\n",
            "int64\n"
          ],
          "name": "stdout"
        }
      ]
    },
    {
      "cell_type": "markdown",
      "metadata": {
        "id": "dp23_E1L5yzo",
        "colab_type": "text"
      },
      "source": [
        "# **Basic Mathematical Operations (arithmatic operations )**"
      ]
    },
    {
      "cell_type": "code",
      "metadata": {
        "id": "KUHLFkL-54oJ",
        "colab_type": "code",
        "outputId": "ea807f7d-5d2a-45cb-dc07-0c35717c23e4",
        "colab": {
          "base_uri": "https://localhost:8080/",
          "height": 52
        }
      },
      "source": [
        "import numpy as np\n",
        "\n",
        "x = np.array([[10,20],[30,40]], dtype=np.float64)\n",
        "y = np.array([[50,60],[70,80]], dtype=np.float64)\n",
        "print(x.shape)\n",
        "print(y.shape)"
      ],
      "execution_count": 0,
      "outputs": [
        {
          "output_type": "stream",
          "text": [
            "(2, 2)\n",
            "(2, 2)\n"
          ],
          "name": "stdout"
        }
      ]
    },
    {
      "cell_type": "code",
      "metadata": {
        "id": "cA2ympqK6I9q",
        "colab_type": "code",
        "outputId": "b6b9e5a0-271b-448b-8390-acdad4044340",
        "colab": {
          "base_uri": "https://localhost:8080/",
          "height": 52
        }
      },
      "source": [
        "print(x + y)"
      ],
      "execution_count": 0,
      "outputs": [
        {
          "output_type": "stream",
          "text": [
            "[[ 60.  80.]\n",
            " [100. 120.]]\n"
          ],
          "name": "stdout"
        }
      ]
    },
    {
      "cell_type": "code",
      "metadata": {
        "id": "lQ8k36e26MJx",
        "colab_type": "code",
        "outputId": "9c1af0cb-f700-4fd7-b453-8053064e0edd",
        "colab": {
          "base_uri": "https://localhost:8080/",
          "height": 52
        }
      },
      "source": [
        "print(np.add(x, y))"
      ],
      "execution_count": 0,
      "outputs": [
        {
          "output_type": "stream",
          "text": [
            "[[ 60.  80.]\n",
            " [100. 120.]]\n"
          ],
          "name": "stdout"
        }
      ]
    },
    {
      "cell_type": "markdown",
      "metadata": {
        "id": "GJoWvR8X6RgM",
        "colab_type": "text"
      },
      "source": [
        "the arithmatic add operation can give the same result in both usage "
      ]
    },
    {
      "cell_type": "code",
      "metadata": {
        "id": "UOjkT2LS6bu8",
        "colab_type": "code",
        "outputId": "34a79acf-74d1-4e50-eb99-553786c936d9",
        "colab": {
          "base_uri": "https://localhost:8080/",
          "height": 52
        }
      },
      "source": [
        "print(x - y)\n"
      ],
      "execution_count": 0,
      "outputs": [
        {
          "output_type": "stream",
          "text": [
            "[[-40. -40.]\n",
            " [-40. -40.]]\n"
          ],
          "name": "stdout"
        }
      ]
    },
    {
      "cell_type": "code",
      "metadata": {
        "id": "XnVdWotp6hl5",
        "colab_type": "code",
        "outputId": "a31e8f18-d11a-4588-d6ff-afff467e5d2d",
        "colab": {
          "base_uri": "https://localhost:8080/",
          "height": 52
        }
      },
      "source": [
        "print(np.subtract(x, y))"
      ],
      "execution_count": 0,
      "outputs": [
        {
          "output_type": "stream",
          "text": [
            "[[-40. -40.]\n",
            " [-40. -40.]]\n"
          ],
          "name": "stdout"
        }
      ]
    },
    {
      "cell_type": "markdown",
      "metadata": {
        "id": "ni9C6cx46jtS",
        "colab_type": "text"
      },
      "source": [
        "the arithmatic minus operation can give the same result in both usage "
      ]
    },
    {
      "cell_type": "code",
      "metadata": {
        "id": "Q2HzaUys6pIt",
        "colab_type": "code",
        "outputId": "b585959d-fb38-4271-c237-bc03e29068e5",
        "colab": {
          "base_uri": "https://localhost:8080/",
          "height": 86
        }
      },
      "source": [
        "print(x * y)\n"
      ],
      "execution_count": 0,
      "outputs": [
        {
          "output_type": "stream",
          "text": [
            "[[ 500. 1200.]\n",
            " [2100. 3200.]]\n",
            "[[ 500. 1200.]\n",
            " [2100. 3200.]]\n"
          ],
          "name": "stdout"
        }
      ]
    },
    {
      "cell_type": "code",
      "metadata": {
        "id": "TNOLxxzz6v5Y",
        "colab_type": "code",
        "outputId": "9b4219bb-6b22-4b6e-bc2a-f05063177157",
        "colab": {
          "base_uri": "https://localhost:8080/",
          "height": 52
        }
      },
      "source": [
        "print(np.multiply(x, y))"
      ],
      "execution_count": 0,
      "outputs": [
        {
          "output_type": "stream",
          "text": [
            "[[ 500. 1200.]\n",
            " [2100. 3200.]]\n"
          ],
          "name": "stdout"
        }
      ]
    },
    {
      "cell_type": "code",
      "metadata": {
        "id": "Wrysvwnd6zX5",
        "colab_type": "code",
        "outputId": "0b8e661f-c552-48bf-9319-1e75006e95ad",
        "colab": {
          "base_uri": "https://localhost:8080/",
          "height": 86
        }
      },
      "source": [
        "print(x / y)\n",
        "print(np.divide(x, y))"
      ],
      "execution_count": 0,
      "outputs": [
        {
          "output_type": "stream",
          "text": [
            "[[0.2        0.33333333]\n",
            " [0.42857143 0.5       ]]\n",
            "[[0.2        0.33333333]\n",
            " [0.42857143 0.5       ]]\n"
          ],
          "name": "stdout"
        }
      ]
    },
    {
      "cell_type": "code",
      "metadata": {
        "id": "LJU4fUWy65Nl",
        "colab_type": "code",
        "outputId": "7af735d3-9024-485b-8ea4-5f687c816dac",
        "colab": {
          "base_uri": "https://localhost:8080/",
          "height": 52
        }
      },
      "source": [
        "print(np.sqrt(x))"
      ],
      "execution_count": 0,
      "outputs": [
        {
          "output_type": "stream",
          "text": [
            "[[3.16227766 4.47213595]\n",
            " [5.47722558 6.32455532]]\n"
          ],
          "name": "stdout"
        }
      ]
    },
    {
      "cell_type": "markdown",
      "metadata": {
        "id": "vT83Zi_V6_ox",
        "colab_type": "text"
      },
      "source": [
        "# **More Operations on Arrays:**\n",
        "\n",
        " (Dot product, Transpose, Broadcasting)"
      ]
    },
    {
      "cell_type": "markdown",
      "metadata": {
        "id": "J5IybW2Iz4-S",
        "colab_type": "text"
      },
      "source": [
        "**1. Dot product versus element wise multiplication**\n"
      ]
    },
    {
      "cell_type": "code",
      "metadata": {
        "id": "_v7Lx0AH6cWk",
        "colab_type": "code",
        "outputId": "286c9b79-9aae-4037-bf08-5b1bb2805fa9",
        "colab": {
          "base_uri": "https://localhost:8080/",
          "height": 51
        }
      },
      "source": [
        "import numpy as np\n",
        "\n",
        "x = np.array([[1,2],[3,4]])\n",
        "y = np.array([[5,6],[7,8]])\n",
        "\n",
        "v = np.array([9,10])\n",
        "w = np.array([11, 12])\n",
        "#print(v.shape)\n",
        "\n",
        "#print(v.dot(w))\n",
        "#print(x.dot(v))\n",
        "\n",
        "print(x.dot(y))\n"
      ],
      "execution_count": 0,
      "outputs": [
        {
          "output_type": "stream",
          "text": [
            "[[19 22]\n",
            " [43 50]]\n"
          ],
          "name": "stdout"
        }
      ]
    },
    {
      "cell_type": "markdown",
      "metadata": {
        "id": "2bah3-hKN5jv",
        "colab_type": "text"
      },
      "source": [
        "**2. Transpose**"
      ]
    },
    {
      "cell_type": "code",
      "metadata": {
        "id": "hlyVxWqmAzGE",
        "colab_type": "code",
        "outputId": "5646239c-d333-43c0-8877-16d554acbad9",
        "colab": {
          "base_uri": "https://localhost:8080/",
          "height": 86
        }
      },
      "source": [
        "import numpy as np\n",
        "\n",
        "x=np.array([[1,2],[3,4]])\n",
        "#x=[1 2]\n",
        "#[3 4]\n",
        "print(\"original matrix\",x)\n",
        "print(\"transpose matrix\",x.T)"
      ],
      "execution_count": 0,
      "outputs": [
        {
          "output_type": "stream",
          "text": [
            "original matrix [[1 2]\n",
            " [3 4]]\n",
            "transpose matrix [[1 3]\n",
            " [2 4]]\n"
          ],
          "name": "stdout"
        }
      ]
    },
    {
      "cell_type": "code",
      "metadata": {
        "id": "YUnM_u0aBsqX",
        "colab_type": "code",
        "outputId": "6e1406af-e499-48ed-8586-7b8725901787",
        "colab": {
          "base_uri": "https://localhost:8080/",
          "height": 68
        }
      },
      "source": [
        "v=np.array([1,2,3])\n",
        "print(\"orignal vector\",v)\n",
        "print(\"transpose vector\",v.T)\n",
        "print(v.shape)"
      ],
      "execution_count": 0,
      "outputs": [
        {
          "output_type": "stream",
          "text": [
            "orignal vector [1 2 3]\n",
            "transpose vector [1 2 3]\n",
            "(3,)\n"
          ],
          "name": "stdout"
        }
      ]
    },
    {
      "cell_type": "markdown",
      "metadata": {
        "id": "uc9DF2GgPOfW",
        "colab_type": "text"
      },
      "source": [
        "**3. Broadcasting**"
      ]
    },
    {
      "cell_type": "code",
      "metadata": {
        "id": "2Yqwh5PwC3Ty",
        "colab_type": "code",
        "outputId": "920084e4-1ff3-410d-dd20-1c0479ea4ce0",
        "colab": {
          "base_uri": "https://localhost:8080/",
          "height": 86
        }
      },
      "source": [
        "import numpy as np\n",
        "\n",
        "x=np.array([[1,2,3],[4,5,6],[7,8,9],[10,11,12]])\n",
        "v=np.array([1,0,1])\n",
        "vv=np.tile(v,(4,1))\n",
        "\n",
        "\n",
        "#print(vv)\n",
        "sum_of_vectors=x+vv\n",
        "print(sum_of_vectors)\n",
        "#print(x)\n",
        "#print(v)\n",
        "#print(x.shape)\n",
        "#print(v.shape)"
      ],
      "execution_count": 0,
      "outputs": [
        {
          "output_type": "stream",
          "text": [
            "[[ 2  2  4]\n",
            " [ 5  5  7]\n",
            " [ 8  8 10]\n",
            " [11 11 13]]\n"
          ],
          "name": "stdout"
        }
      ]
    },
    {
      "cell_type": "code",
      "metadata": {
        "id": "2iEWkRVaE44z",
        "colab_type": "code",
        "outputId": "ea58906c-6728-404e-e3a7-96f7c4ee2a5f",
        "colab": {
          "base_uri": "https://localhost:8080/",
          "height": 86
        }
      },
      "source": [
        "import numpy as np\n",
        "x=np.array([[1,2,3],[4,5,6],[7,8,9],[10,11,12]])\n",
        "v=np.array([1,0,1])\n",
        "sum_of_vectors=x+v\n",
        "print(sum_of_vectors)\n"
      ],
      "execution_count": 0,
      "outputs": [
        {
          "output_type": "stream",
          "text": [
            "[[ 2  2  4]\n",
            " [ 5  5  7]\n",
            " [ 8  8 10]\n",
            " [11 11 13]]\n"
          ],
          "name": "stdout"
        }
      ]
    }
  ]
}