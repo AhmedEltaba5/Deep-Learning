{
  "nbformat": 4,
  "nbformat_minor": 0,
  "metadata": {
    "colab": {
      "name": "tensorflow.ipynb",
      "provenance": []
    },
    "kernelspec": {
      "name": "python3",
      "display_name": "Python 3"
    }
  },
  "cells": [
    {
      "cell_type": "code",
      "metadata": {
        "id": "PbIDj01PeWOb",
        "colab_type": "code",
        "colab": {
          "base_uri": "https://localhost:8080/",
          "height": 63
        },
        "outputId": "5e3b5ef4-b89c-49f6-f498-b90f82aca5e6"
      },
      "source": [
        "import tensorflow as tf "
      ],
      "execution_count": 1,
      "outputs": [
        {
          "output_type": "display_data",
          "data": {
            "text/html": [
              "<p style=\"color: red;\">\n",
              "The default version of TensorFlow in Colab will soon switch to TensorFlow 2.x.<br>\n",
              "We recommend you <a href=\"https://www.tensorflow.org/guide/migrate\" target=\"_blank\">upgrade</a> now \n",
              "or ensure your notebook will continue to use TensorFlow 1.x via the <code>%tensorflow_version 1.x</code> magic:\n",
              "<a href=\"https://colab.research.google.com/notebooks/tensorflow_version.ipynb\" target=\"_blank\">more info</a>.</p>\n"
            ],
            "text/plain": [
              "<IPython.core.display.HTML object>"
            ]
          },
          "metadata": {
            "tags": []
          }
        }
      ]
    },
    {
      "cell_type": "code",
      "metadata": {
        "id": "E52CMSmdhQe9",
        "colab_type": "code",
        "colab": {
          "base_uri": "https://localhost:8080/",
          "height": 34
        },
        "outputId": "a0a7f7b8-c1a6-41b0-8f41-69cb78d9560d"
      },
      "source": [
        "a=2\n",
        "b=3\n",
        "c=tf.add(a,b,name='add')\n",
        "print(c)"
      ],
      "execution_count": 2,
      "outputs": [
        {
          "output_type": "stream",
          "text": [
            "Tensor(\"add:0\", shape=(), dtype=int32)\n"
          ],
          "name": "stdout"
        }
      ]
    },
    {
      "cell_type": "code",
      "metadata": {
        "id": "FsPpmVEDhk9Y",
        "colab_type": "code",
        "colab": {
          "base_uri": "https://localhost:8080/",
          "height": 34
        },
        "outputId": "0697c078-d9b4-4252-dd41-48b4d3a020d6"
      },
      "source": [
        "sess =tf.Session()\n",
        "print(sess.run(c))\n",
        "sess.close()"
      ],
      "execution_count": 7,
      "outputs": [
        {
          "output_type": "stream",
          "text": [
            "5\n"
          ],
          "name": "stdout"
        }
      ]
    },
    {
      "cell_type": "code",
      "metadata": {
        "id": "DDo4DQm3iv4y",
        "colab_type": "code",
        "colab": {
          "base_uri": "https://localhost:8080/",
          "height": 34
        },
        "outputId": "6562ef86-7180-4a90-b01e-daebc4b21e52"
      },
      "source": [
        "with tf.Session()as sess:\n",
        "    print(sess.run(c))"
      ],
      "execution_count": 8,
      "outputs": [
        {
          "output_type": "stream",
          "text": [
            "5\n"
          ],
          "name": "stdout"
        }
      ]
    },
    {
      "cell_type": "code",
      "metadata": {
        "id": "OICptlvIjAkH",
        "colab_type": "code",
        "colab": {
          "base_uri": "https://localhost:8080/",
          "height": 51
        },
        "outputId": "453b8efd-4732-4920-87cb-abac8792f1e3"
      },
      "source": [
        "import tensorflow as tf\n",
        "x=2\n",
        "y=3\n",
        "add_op=tf.add(x,y,name='add')\n",
        "mult_op=tf.multiply(x,y, name='multiply')\n",
        "pow_op=tf.pow(add_op,mult_op,name='power')\n",
        "res=tf.multiply(x,pow_op,name='Useless')\n",
        "with tf.Session()as sess:\n",
        "    pout,res_out=sess.run([pow_op,res])\n",
        "    print(pout)\n",
        "    print(res_out)\n"
      ],
      "execution_count": 12,
      "outputs": [
        {
          "output_type": "stream",
          "text": [
            "15625\n",
            "31250\n"
          ],
          "name": "stdout"
        }
      ]
    },
    {
      "cell_type": "code",
      "metadata": {
        "id": "5bXTptIElRYh",
        "colab_type": "code",
        "colab": {
          "base_uri": "https://localhost:8080/",
          "height": 51
        },
        "outputId": "b9b99854-6264-4708-b19a-e664ce072d1e"
      },
      "source": [
        "c=tf.constant([[1,2,3,4],[-1,-2,-3,-4],[5,6,7,8]])\n",
        "a=tf.math.segment_sum(c,tf.constant([0,0,1]))\n",
        "with tf.Session() as sess:\n",
        "\n",
        "    print(sess.run(a))\n"
      ],
      "execution_count": 19,
      "outputs": [
        {
          "output_type": "stream",
          "text": [
            "[[0 0 0 0]\n",
            " [5 6 7 8]]\n"
          ],
          "name": "stdout"
        }
      ]
    },
    {
      "cell_type": "code",
      "metadata": {
        "id": "7eHjECT3m-gV",
        "colab_type": "code",
        "colab": {
          "base_uri": "https://localhost:8080/",
          "height": 51
        },
        "outputId": "5f493380-59a8-4315-9266-15c4d9010a5d"
      },
      "source": [
        "c=tf.constant([[1,2,3,4],[-1,-2,-3,-4],[5,6,7,8]])\n",
        "a=tf.math.unsorted_segment_sum(c,tf.constant([0,1,0]),num_segments=2)\n",
        "with tf.Session() as sess:\n",
        "    print(sess.run(a))"
      ],
      "execution_count": 20,
      "outputs": [
        {
          "output_type": "stream",
          "text": [
            "[[ 6  8 10 12]\n",
            " [-1 -2 -3 -4]]\n"
          ],
          "name": "stdout"
        }
      ]
    }
  ]
}