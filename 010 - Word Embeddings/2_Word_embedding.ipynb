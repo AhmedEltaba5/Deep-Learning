{
  "nbformat": 4,
  "nbformat_minor": 0,
  "metadata": {
    "colab": {
      "name": "Copy of Word_embedding.ipynb",
      "provenance": [],
      "collapsed_sections": []
    },
    "kernelspec": {
      "name": "python3",
      "display_name": "Python 3"
    },
    "accelerator": "GPU"
  },
  "cells": [
    {
      "cell_type": "markdown",
      "metadata": {
        "id": "EHH1gV1B-PRS",
        "colab_type": "text"
      },
      "source": [
        "A potential drawback with one-hot encoded feature vector approaches such as N-Grams, bag of words and TF-IDF approach is that the feature vector for each document can be huge. For instance, if you have a half million unique words in your corpus and you want to represent a sentence that contains 10 words, your feature vector will be a half million dimensional one-hot encoded vector where only 10 indexes will have 1. This is a wastage of space and increases algorithm complexity exponentially resulting in the curse of dimentionality."
      ]
    },
    {
      "cell_type": "markdown",
      "metadata": {
        "id": "7LuVd8to-YSJ",
        "colab_type": "text"
      },
      "source": [
        "In word embeddings, every word is represented as an n-dimensional dense vector. The words that are similar will have similar vector. Word embeddings techniques such as GloVe and Word2Vec have proven to be extremely efficient for converting words into corresponding dense vectors. The vector size is small and none of the indexes in the vector is actually empty."
      ]
    },
    {
      "cell_type": "markdown",
      "metadata": {
        "id": "A0wQwE6NB7pL",
        "colab_type": "text"
      },
      "source": [
        "he Keras library contains a layer called Embedding(). The embedding layer is implemented in the form of a class in Keras and is normally used as a first layer in the sequential model for NLP tasks."
      ]
    },
    {
      "cell_type": "code",
      "metadata": {
        "id": "fWtqiHxmB8OE",
        "colab_type": "code",
        "outputId": "6cdc963a-6330-47f4-e130-a6af5049fbac",
        "colab": {
          "base_uri": "https://localhost:8080/",
          "height": 81
        }
      },
      "source": [
        "from numpy import array\n",
        "from keras.preprocessing.text import one_hot\n",
        "from keras.preprocessing.sequence import pad_sequences\n",
        "from keras.models import Sequential\n",
        "from keras.layers import Dense\n",
        "from keras.layers import Flatten\n",
        "from keras.layers.embeddings import Embedding"
      ],
      "execution_count": 0,
      "outputs": [
        {
          "output_type": "stream",
          "text": [
            "Using TensorFlow backend.\n"
          ],
          "name": "stderr"
        },
        {
          "output_type": "display_data",
          "data": {
            "text/html": [
              "<p style=\"color: red;\">\n",
              "The default version of TensorFlow in Colab will soon switch to TensorFlow 2.x.<br>\n",
              "We recommend you <a href=\"https://www.tensorflow.org/guide/migrate\" target=\"_blank\">upgrade</a> now \n",
              "or ensure your notebook will continue to use TensorFlow 1.x via the <code>%tensorflow_version 1.x</code> magic:\n",
              "<a href=\"https://colab.research.google.com/notebooks/tensorflow_version.ipynb\" target=\"_blank\">more info</a>.</p>\n"
            ],
            "text/plain": [
              "<IPython.core.display.HTML object>"
            ]
          },
          "metadata": {
            "tags": []
          }
        }
      ]
    },
    {
      "cell_type": "code",
      "metadata": {
        "id": "q6ySpDCiILfE",
        "colab_type": "code",
        "colab": {}
      },
      "source": [
        "corpus = [\n",
        "    # Positive Reviews\n",
        "\n",
        "    'This is an excellent movie',\n",
        "    'The move was fantastic I like it',\n",
        "    'You should watch it is brilliant',\n",
        "    'Exceptionally good',\n",
        "    'Wonderfully directed and executed I like it',\n",
        "    'Its a fantastic series',\n",
        "    'Never watched such a brillent movie',\n",
        "    'It is a Wonderful movie',\n",
        "\n",
        "    # Negtive Reviews\n",
        "\n",
        "    \"horrible acting\",\n",
        "    'waste of money',\n",
        "    'pathetic picture',\n",
        "    'It was very boring',\n",
        "    'I did not like the movie',\n",
        "    'The movie was horrible',\n",
        "    'I will not recommend',\n",
        "    'The acting is pathetic'\n",
        "]"
      ],
      "execution_count": 0,
      "outputs": []
    },
    {
      "cell_type": "code",
      "metadata": {
        "id": "2-xe4MNlIfA1",
        "colab_type": "code",
        "colab": {}
      },
      "source": [
        "sentiments = array([1,1,1,1,1,1,1,1,0,0,0,0,0,0,0,0])"
      ],
      "execution_count": 0,
      "outputs": []
    },
    {
      "cell_type": "markdown",
      "metadata": {
        "id": "UvX40-CyIlQk",
        "colab_type": "text"
      },
      "source": [
        "the first parameter to the Embedding() layer is the vocabulary, or number of unique words in the corpus. Let's first find the total number of words in our corpus:"
      ]
    },
    {
      "cell_type": "code",
      "metadata": {
        "id": "EfXuK98pIl96",
        "colab_type": "code",
        "outputId": "d0ce5fd7-b2ec-4cf4-ab3c-03959721343c",
        "colab": {
          "base_uri": "https://localhost:8080/",
          "height": 52
        }
      },
      "source": [
        "import nltk\n",
        "\n",
        "nltk.download('punkt')\n",
        "  \n",
        "from nltk.tokenize import word_tokenize\n",
        "\n",
        "all_words = []\n",
        "for sent in corpus:\n",
        "    tokenize_word = word_tokenize(sent)\n",
        "    for word in tokenize_word:\n",
        "        all_words.append(word)"
      ],
      "execution_count": 0,
      "outputs": [
        {
          "output_type": "stream",
          "text": [
            "[nltk_data] Downloading package punkt to /root/nltk_data...\n",
            "[nltk_data]   Unzipping tokenizers/punkt.zip.\n"
          ],
          "name": "stdout"
        }
      ]
    },
    {
      "cell_type": "code",
      "metadata": {
        "id": "SNvdJiMOKha5",
        "colab_type": "code",
        "outputId": "922e75f1-9c5c-4b8c-9a38-4ed09f3b1d08",
        "colab": {
          "base_uri": "https://localhost:8080/",
          "height": 34
        }
      },
      "source": [
        "unique_words = set(all_words)\n",
        "print(len(unique_words))"
      ],
      "execution_count": 0,
      "outputs": [
        {
          "output_type": "stream",
          "text": [
            "45\n"
          ],
          "name": "stdout"
        }
      ]
    },
    {
      "cell_type": "markdown",
      "metadata": {
        "id": "6uzPpZaCKl6U",
        "colab_type": "text"
      },
      "source": [
        "In the output you will see \"45\", which is the number of unique words in our corpus. We will add a buffer of 5 to our vocabulary size and will set the value of vocab_length to 50."
      ]
    },
    {
      "cell_type": "markdown",
      "metadata": {
        "id": "O2RBcOcmKtP7",
        "colab_type": "text"
      },
      "source": [
        "One way to convert text to numbers is by using the one_hot function from the keras.preprocessing.text library. The function takes sentence and the total length of the vocabulary and returns the sentence in numeric form."
      ]
    },
    {
      "cell_type": "code",
      "metadata": {
        "id": "8Qb8Y7cALQld",
        "colab_type": "code",
        "outputId": "42b485f6-7b9c-4b2c-9762-59b53276d432",
        "colab": {
          "base_uri": "https://localhost:8080/",
          "height": 54
        }
      },
      "source": [
        "embedded_sentences = [one_hot(sent, 50) for sent in corpus]\n",
        "print(embedded_sentences )"
      ],
      "execution_count": 0,
      "outputs": [
        {
          "output_type": "stream",
          "text": [
            "[[10, 34, 7, 19, 24], [19, 2, 29, 45, 33, 13, 8], [21, 43, 19, 8, 34, 21], [28, 43], [12, 20, 10, 46, 33, 13, 8], [23, 21, 45, 24], [32, 20, 8, 21, 49, 24], [8, 34, 21, 24, 24], [22, 32], [48, 4, 7], [6, 21], [8, 29, 21, 7], [33, 15, 29, 13, 19, 24], [19, 24, 29, 22], [33, 24, 29, 5], [19, 32, 34, 6]]\n"
          ],
          "name": "stdout"
        }
      ]
    },
    {
      "cell_type": "code",
      "metadata": {
        "id": "oRLlz3_kKtx_",
        "colab_type": "code",
        "colab": {}
      },
      "source": [
        "word_count = lambda sentence: len(word_tokenize(sentence))\n",
        "longest_sentence = max(corpus, key=word_count)\n",
        "length_long_sentence = len(word_tokenize(longest_sentence))"
      ],
      "execution_count": 0,
      "outputs": []
    },
    {
      "cell_type": "code",
      "metadata": {
        "id": "TR9jSOXpKwme",
        "colab_type": "code",
        "outputId": "b84cc970-08a4-4dcc-cca4-88f5831c5e7d",
        "colab": {
          "base_uri": "https://localhost:8080/",
          "height": 295
        }
      },
      "source": [
        "padded_sentences = pad_sequences(embedded_sentences, length_long_sentence, padding='post')\n",
        "print(padded_sentences)"
      ],
      "execution_count": 0,
      "outputs": [
        {
          "output_type": "stream",
          "text": [
            "[[10 34  7 19 24  0  0]\n",
            " [19  2 29 45 33 13  8]\n",
            " [21 43 19  8 34 21  0]\n",
            " [28 43  0  0  0  0  0]\n",
            " [12 20 10 46 33 13  8]\n",
            " [23 21 45 24  0  0  0]\n",
            " [32 20  8 21 49 24  0]\n",
            " [ 8 34 21 24 24  0  0]\n",
            " [22 32  0  0  0  0  0]\n",
            " [48  4  7  0  0  0  0]\n",
            " [ 6 21  0  0  0  0  0]\n",
            " [ 8 29 21  7  0  0  0]\n",
            " [33 15 29 13 19 24  0]\n",
            " [19 24 29 22  0  0  0]\n",
            " [33 24 29  5  0  0  0]\n",
            " [19 32 34  6  0  0  0]]\n"
          ],
          "name": "stdout"
        }
      ]
    },
    {
      "cell_type": "code",
      "metadata": {
        "id": "MqpdHXHiLIeI",
        "colab_type": "code",
        "colab": {}
      },
      "source": [
        "word_count = lambda sentence: len(word_tokenize(sentence))\n",
        "longest_sentence = max(corpus, key=word_count)\n",
        "length_long_sentence = len(word_tokenize(longest_sentence))"
      ],
      "execution_count": 0,
      "outputs": []
    },
    {
      "cell_type": "code",
      "metadata": {
        "id": "zCYFZPFtLbj3",
        "colab_type": "code",
        "outputId": "034275d7-8b7a-4d1d-e856-2085aacad7be",
        "colab": {
          "base_uri": "https://localhost:8080/",
          "height": 106
        }
      },
      "source": [
        "model = Sequential()\n",
        "model.add(Embedding(50, 20, input_length=length_long_sentence))\n",
        "model.add(Flatten())\n",
        "model.add(Dense(1, activation='sigmoid'))"
      ],
      "execution_count": 0,
      "outputs": [
        {
          "output_type": "stream",
          "text": [
            "WARNING:tensorflow:From /usr/local/lib/python3.6/dist-packages/keras/backend/tensorflow_backend.py:541: The name tf.placeholder is deprecated. Please use tf.compat.v1.placeholder instead.\n",
            "\n",
            "WARNING:tensorflow:From /usr/local/lib/python3.6/dist-packages/keras/backend/tensorflow_backend.py:4432: The name tf.random_uniform is deprecated. Please use tf.random.uniform instead.\n",
            "\n"
          ],
          "name": "stdout"
        }
      ]
    },
    {
      "cell_type": "code",
      "metadata": {
        "id": "GTxJ47jJLiOC",
        "colab_type": "code",
        "outputId": "37e83e93-b592-4017-bb33-5d62e7f16046",
        "colab": {
          "base_uri": "https://localhost:8080/",
          "height": 260
        }
      },
      "source": [
        "model.summary()"
      ],
      "execution_count": 0,
      "outputs": [
        {
          "output_type": "stream",
          "text": [
            "Model: \"sequential_2\"\n",
            "_________________________________________________________________\n",
            "Layer (type)                 Output Shape              Param #   \n",
            "=================================================================\n",
            "embedding_1 (Embedding)      (None, 7, 20)             1000      \n",
            "_________________________________________________________________\n",
            "flatten_1 (Flatten)          (None, 140)               0         \n",
            "_________________________________________________________________\n",
            "dense_1 (Dense)              (None, 1)                 141       \n",
            "=================================================================\n",
            "Total params: 1,141\n",
            "Trainable params: 1,141\n",
            "Non-trainable params: 0\n",
            "_________________________________________________________________\n"
          ],
          "name": "stdout"
        }
      ]
    },
    {
      "cell_type": "code",
      "metadata": {
        "id": "xbaOs4gKLoWb",
        "colab_type": "code",
        "colab": {}
      },
      "source": [
        ""
      ],
      "execution_count": 0,
      "outputs": []
    },
    {
      "cell_type": "markdown",
      "metadata": {
        "id": "LWdFoWt_LwPv",
        "colab_type": "text"
      },
      "source": [
        "we create a Sequential model and add the Embedding layer as the first layer to the model. The length of the vocabulary is specified by the vocab_length parameter. The dimension of each word vector will be 20 and the input_length will be the length of the longest sentence, which is 7. Next, the Embedding layer is flattened so that it can be directly used with the densely connected layer. Since it is a binary classification problem, we use the sigmoid function as the loss function at the dense layer."
      ]
    },
    {
      "cell_type": "code",
      "metadata": {
        "id": "bxFBKHZ3Lw9S",
        "colab_type": "code",
        "outputId": "58c978ec-56ab-4a09-a86e-57505d00c2de",
        "colab": {
          "base_uri": "https://localhost:8080/",
          "height": 419
        }
      },
      "source": [
        "model.compile(optimizer='adam', loss='binary_crossentropy', metrics=['acc'])\n",
        "print(model.summary())\n"
      ],
      "execution_count": 0,
      "outputs": [
        {
          "output_type": "stream",
          "text": [
            "WARNING:tensorflow:From /usr/local/lib/python3.6/dist-packages/keras/optimizers.py:793: The name tf.train.Optimizer is deprecated. Please use tf.compat.v1.train.Optimizer instead.\n",
            "\n",
            "WARNING:tensorflow:From /usr/local/lib/python3.6/dist-packages/keras/backend/tensorflow_backend.py:3657: The name tf.log is deprecated. Please use tf.math.log instead.\n",
            "\n",
            "WARNING:tensorflow:From /usr/local/lib/python3.6/dist-packages/tensorflow_core/python/ops/nn_impl.py:183: where (from tensorflow.python.ops.array_ops) is deprecated and will be removed in a future version.\n",
            "Instructions for updating:\n",
            "Use tf.where in 2.0, which has the same broadcast rule as np.where\n",
            "Model: \"sequential_2\"\n",
            "_________________________________________________________________\n",
            "Layer (type)                 Output Shape              Param #   \n",
            "=================================================================\n",
            "embedding_1 (Embedding)      (None, 7, 20)             1000      \n",
            "_________________________________________________________________\n",
            "flatten_1 (Flatten)          (None, 140)               0         \n",
            "_________________________________________________________________\n",
            "dense_1 (Dense)              (None, 1)                 141       \n",
            "=================================================================\n",
            "Total params: 1,141\n",
            "Trainable params: 1,141\n",
            "Non-trainable params: 0\n",
            "_________________________________________________________________\n",
            "None\n"
          ],
          "name": "stdout"
        }
      ]
    },
    {
      "cell_type": "code",
      "metadata": {
        "id": "oEibugo7L1mh",
        "colab_type": "code",
        "outputId": "f4910793-98ca-45ba-d8ea-87c5d49a4a33",
        "colab": {
          "base_uri": "https://localhost:8080/",
          "height": 1000
        }
      },
      "source": [
        "model.fit(padded_sentences, sentiments, epochs=100, verbose=1)"
      ],
      "execution_count": 0,
      "outputs": [
        {
          "output_type": "stream",
          "text": [
            "WARNING:tensorflow:From /usr/local/lib/python3.6/dist-packages/keras/backend/tensorflow_backend.py:1033: The name tf.assign_add is deprecated. Please use tf.compat.v1.assign_add instead.\n",
            "\n",
            "WARNING:tensorflow:From /usr/local/lib/python3.6/dist-packages/keras/backend/tensorflow_backend.py:1020: The name tf.assign is deprecated. Please use tf.compat.v1.assign instead.\n",
            "\n",
            "WARNING:tensorflow:From /usr/local/lib/python3.6/dist-packages/keras/backend/tensorflow_backend.py:3005: The name tf.Session is deprecated. Please use tf.compat.v1.Session instead.\n",
            "\n",
            "Epoch 1/100\n",
            "WARNING:tensorflow:From /usr/local/lib/python3.6/dist-packages/keras/backend/tensorflow_backend.py:190: The name tf.get_default_session is deprecated. Please use tf.compat.v1.get_default_session instead.\n",
            "\n",
            "WARNING:tensorflow:From /usr/local/lib/python3.6/dist-packages/keras/backend/tensorflow_backend.py:197: The name tf.ConfigProto is deprecated. Please use tf.compat.v1.ConfigProto instead.\n",
            "\n",
            "WARNING:tensorflow:From /usr/local/lib/python3.6/dist-packages/keras/backend/tensorflow_backend.py:207: The name tf.global_variables is deprecated. Please use tf.compat.v1.global_variables instead.\n",
            "\n",
            "WARNING:tensorflow:From /usr/local/lib/python3.6/dist-packages/keras/backend/tensorflow_backend.py:216: The name tf.is_variable_initialized is deprecated. Please use tf.compat.v1.is_variable_initialized instead.\n",
            "\n",
            "WARNING:tensorflow:From /usr/local/lib/python3.6/dist-packages/keras/backend/tensorflow_backend.py:223: The name tf.variables_initializer is deprecated. Please use tf.compat.v1.variables_initializer instead.\n",
            "\n",
            "16/16 [==============================] - 4s 265ms/step - loss: 0.6903 - acc: 0.5000\n",
            "Epoch 2/100\n",
            "16/16 [==============================] - 0s 508us/step - loss: 0.6865 - acc: 0.5625\n",
            "Epoch 3/100\n",
            "16/16 [==============================] - 0s 335us/step - loss: 0.6827 - acc: 0.6875\n",
            "Epoch 4/100\n",
            "16/16 [==============================] - 0s 361us/step - loss: 0.6789 - acc: 0.7500\n",
            "Epoch 5/100\n",
            "16/16 [==============================] - 0s 521us/step - loss: 0.6751 - acc: 0.8125\n",
            "Epoch 6/100\n",
            "16/16 [==============================] - 0s 382us/step - loss: 0.6714 - acc: 0.8125\n",
            "Epoch 7/100\n",
            "16/16 [==============================] - 0s 275us/step - loss: 0.6676 - acc: 0.8125\n",
            "Epoch 8/100\n",
            "16/16 [==============================] - 0s 348us/step - loss: 0.6638 - acc: 0.8125\n",
            "Epoch 9/100\n",
            "16/16 [==============================] - 0s 304us/step - loss: 0.6601 - acc: 0.8750\n",
            "Epoch 10/100\n",
            "16/16 [==============================] - 0s 325us/step - loss: 0.6563 - acc: 0.8750\n",
            "Epoch 11/100\n",
            "16/16 [==============================] - 0s 303us/step - loss: 0.6526 - acc: 0.8750\n",
            "Epoch 12/100\n",
            "16/16 [==============================] - 0s 357us/step - loss: 0.6488 - acc: 0.8750\n",
            "Epoch 13/100\n",
            "16/16 [==============================] - 0s 304us/step - loss: 0.6451 - acc: 0.8750\n",
            "Epoch 14/100\n",
            "16/16 [==============================] - 0s 235us/step - loss: 0.6413 - acc: 0.8750\n",
            "Epoch 15/100\n",
            "16/16 [==============================] - 0s 236us/step - loss: 0.6375 - acc: 0.8750\n",
            "Epoch 16/100\n",
            "16/16 [==============================] - 0s 224us/step - loss: 0.6337 - acc: 0.8750\n",
            "Epoch 17/100\n",
            "16/16 [==============================] - 0s 217us/step - loss: 0.6299 - acc: 0.8750\n",
            "Epoch 18/100\n",
            "16/16 [==============================] - 0s 257us/step - loss: 0.6261 - acc: 0.8750\n",
            "Epoch 19/100\n",
            "16/16 [==============================] - 0s 226us/step - loss: 0.6223 - acc: 0.8750\n",
            "Epoch 20/100\n",
            "16/16 [==============================] - 0s 265us/step - loss: 0.6184 - acc: 0.8750\n",
            "Epoch 21/100\n",
            "16/16 [==============================] - 0s 205us/step - loss: 0.6146 - acc: 0.8750\n",
            "Epoch 22/100\n",
            "16/16 [==============================] - 0s 258us/step - loss: 0.6107 - acc: 0.8750\n",
            "Epoch 23/100\n",
            "16/16 [==============================] - 0s 255us/step - loss: 0.6068 - acc: 0.8750\n",
            "Epoch 24/100\n",
            "16/16 [==============================] - 0s 219us/step - loss: 0.6029 - acc: 0.9375\n",
            "Epoch 25/100\n",
            "16/16 [==============================] - 0s 317us/step - loss: 0.5990 - acc: 0.9375\n",
            "Epoch 26/100\n",
            "16/16 [==============================] - 0s 370us/step - loss: 0.5950 - acc: 0.9375\n",
            "Epoch 27/100\n",
            "16/16 [==============================] - 0s 227us/step - loss: 0.5910 - acc: 0.9375\n",
            "Epoch 28/100\n",
            "16/16 [==============================] - 0s 244us/step - loss: 0.5870 - acc: 0.9375\n",
            "Epoch 29/100\n",
            "16/16 [==============================] - 0s 266us/step - loss: 0.5830 - acc: 0.9375\n",
            "Epoch 30/100\n",
            "16/16 [==============================] - 0s 245us/step - loss: 0.5789 - acc: 0.9375\n",
            "Epoch 31/100\n",
            "16/16 [==============================] - 0s 306us/step - loss: 0.5748 - acc: 0.9375\n",
            "Epoch 32/100\n",
            "16/16 [==============================] - 0s 386us/step - loss: 0.5707 - acc: 0.9375\n",
            "Epoch 33/100\n",
            "16/16 [==============================] - 0s 205us/step - loss: 0.5665 - acc: 0.9375\n",
            "Epoch 34/100\n",
            "16/16 [==============================] - 0s 263us/step - loss: 0.5624 - acc: 0.9375\n",
            "Epoch 35/100\n",
            "16/16 [==============================] - 0s 231us/step - loss: 0.5582 - acc: 0.9375\n",
            "Epoch 36/100\n",
            "16/16 [==============================] - 0s 384us/step - loss: 0.5540 - acc: 0.9375\n",
            "Epoch 37/100\n",
            "16/16 [==============================] - 0s 265us/step - loss: 0.5497 - acc: 0.9375\n",
            "Epoch 38/100\n",
            "16/16 [==============================] - 0s 209us/step - loss: 0.5455 - acc: 0.9375\n",
            "Epoch 39/100\n",
            "16/16 [==============================] - 0s 633us/step - loss: 0.5412 - acc: 0.9375\n",
            "Epoch 40/100\n",
            "16/16 [==============================] - 0s 347us/step - loss: 0.5369 - acc: 0.9375\n",
            "Epoch 41/100\n",
            "16/16 [==============================] - 0s 280us/step - loss: 0.5325 - acc: 0.9375\n",
            "Epoch 42/100\n",
            "16/16 [==============================] - 0s 243us/step - loss: 0.5282 - acc: 0.9375\n",
            "Epoch 43/100\n",
            "16/16 [==============================] - 0s 273us/step - loss: 0.5238 - acc: 0.9375\n",
            "Epoch 44/100\n",
            "16/16 [==============================] - 0s 224us/step - loss: 0.5194 - acc: 0.9375\n",
            "Epoch 45/100\n",
            "16/16 [==============================] - 0s 250us/step - loss: 0.5149 - acc: 0.9375\n",
            "Epoch 46/100\n",
            "16/16 [==============================] - 0s 244us/step - loss: 0.5105 - acc: 0.9375\n",
            "Epoch 47/100\n",
            "16/16 [==============================] - 0s 255us/step - loss: 0.5060 - acc: 0.9375\n",
            "Epoch 48/100\n",
            "16/16 [==============================] - 0s 264us/step - loss: 0.5015 - acc: 0.9375\n",
            "Epoch 49/100\n",
            "16/16 [==============================] - 0s 296us/step - loss: 0.4970 - acc: 0.9375\n",
            "Epoch 50/100\n",
            "16/16 [==============================] - 0s 281us/step - loss: 0.4925 - acc: 0.9375\n",
            "Epoch 51/100\n",
            "16/16 [==============================] - 0s 286us/step - loss: 0.4880 - acc: 0.9375\n",
            "Epoch 52/100\n",
            "16/16 [==============================] - 0s 280us/step - loss: 0.4835 - acc: 0.9375\n",
            "Epoch 53/100\n",
            "16/16 [==============================] - 0s 321us/step - loss: 0.4789 - acc: 0.9375\n",
            "Epoch 54/100\n",
            "16/16 [==============================] - 0s 295us/step - loss: 0.4744 - acc: 0.9375\n",
            "Epoch 55/100\n",
            "16/16 [==============================] - 0s 264us/step - loss: 0.4698 - acc: 0.9375\n",
            "Epoch 56/100\n",
            "16/16 [==============================] - 0s 191us/step - loss: 0.4652 - acc: 0.9375\n",
            "Epoch 57/100\n",
            "16/16 [==============================] - 0s 199us/step - loss: 0.4606 - acc: 0.9375\n",
            "Epoch 58/100\n",
            "16/16 [==============================] - 0s 229us/step - loss: 0.4561 - acc: 1.0000\n",
            "Epoch 59/100\n",
            "16/16 [==============================] - 0s 210us/step - loss: 0.4515 - acc: 1.0000\n",
            "Epoch 60/100\n",
            "16/16 [==============================] - 0s 188us/step - loss: 0.4469 - acc: 1.0000\n",
            "Epoch 61/100\n",
            "16/16 [==============================] - 0s 221us/step - loss: 0.4423 - acc: 1.0000\n",
            "Epoch 62/100\n",
            "16/16 [==============================] - 0s 194us/step - loss: 0.4377 - acc: 1.0000\n",
            "Epoch 63/100\n",
            "16/16 [==============================] - 0s 215us/step - loss: 0.4331 - acc: 1.0000\n",
            "Epoch 64/100\n",
            "16/16 [==============================] - 0s 201us/step - loss: 0.4285 - acc: 1.0000\n",
            "Epoch 65/100\n",
            "16/16 [==============================] - 0s 187us/step - loss: 0.4240 - acc: 1.0000\n",
            "Epoch 66/100\n",
            "16/16 [==============================] - 0s 334us/step - loss: 0.4194 - acc: 1.0000\n",
            "Epoch 67/100\n",
            "16/16 [==============================] - 0s 204us/step - loss: 0.4148 - acc: 1.0000\n",
            "Epoch 68/100\n",
            "16/16 [==============================] - 0s 163us/step - loss: 0.4103 - acc: 1.0000\n",
            "Epoch 69/100\n",
            "16/16 [==============================] - 0s 202us/step - loss: 0.4058 - acc: 1.0000\n",
            "Epoch 70/100\n",
            "16/16 [==============================] - 0s 193us/step - loss: 0.4012 - acc: 1.0000\n",
            "Epoch 71/100\n",
            "16/16 [==============================] - 0s 179us/step - loss: 0.3967 - acc: 1.0000\n",
            "Epoch 72/100\n",
            "16/16 [==============================] - 0s 291us/step - loss: 0.3922 - acc: 1.0000\n",
            "Epoch 73/100\n",
            "16/16 [==============================] - 0s 222us/step - loss: 0.3877 - acc: 1.0000\n",
            "Epoch 74/100\n",
            "16/16 [==============================] - 0s 218us/step - loss: 0.3833 - acc: 1.0000\n",
            "Epoch 75/100\n",
            "16/16 [==============================] - 0s 301us/step - loss: 0.3788 - acc: 1.0000\n",
            "Epoch 76/100\n",
            "16/16 [==============================] - 0s 248us/step - loss: 0.3744 - acc: 1.0000\n",
            "Epoch 77/100\n",
            "16/16 [==============================] - 0s 169us/step - loss: 0.3700 - acc: 1.0000\n",
            "Epoch 78/100\n",
            "16/16 [==============================] - 0s 212us/step - loss: 0.3656 - acc: 1.0000\n",
            "Epoch 79/100\n",
            "16/16 [==============================] - 0s 342us/step - loss: 0.3612 - acc: 1.0000\n",
            "Epoch 80/100\n",
            "16/16 [==============================] - 0s 193us/step - loss: 0.3569 - acc: 1.0000\n",
            "Epoch 81/100\n",
            "16/16 [==============================] - 0s 231us/step - loss: 0.3525 - acc: 1.0000\n",
            "Epoch 82/100\n",
            "16/16 [==============================] - 0s 219us/step - loss: 0.3482 - acc: 1.0000\n",
            "Epoch 83/100\n",
            "16/16 [==============================] - 0s 224us/step - loss: 0.3440 - acc: 1.0000\n",
            "Epoch 84/100\n",
            "16/16 [==============================] - 0s 209us/step - loss: 0.3397 - acc: 1.0000\n",
            "Epoch 85/100\n",
            "16/16 [==============================] - 0s 192us/step - loss: 0.3355 - acc: 1.0000\n",
            "Epoch 86/100\n",
            "16/16 [==============================] - 0s 259us/step - loss: 0.3313 - acc: 1.0000\n",
            "Epoch 87/100\n",
            "16/16 [==============================] - 0s 191us/step - loss: 0.3272 - acc: 1.0000\n",
            "Epoch 88/100\n",
            "16/16 [==============================] - 0s 242us/step - loss: 0.3230 - acc: 1.0000\n",
            "Epoch 89/100\n",
            "16/16 [==============================] - 0s 282us/step - loss: 0.3190 - acc: 1.0000\n",
            "Epoch 90/100\n",
            "16/16 [==============================] - 0s 295us/step - loss: 0.3149 - acc: 1.0000\n",
            "Epoch 91/100\n",
            "16/16 [==============================] - 0s 225us/step - loss: 0.3109 - acc: 1.0000\n",
            "Epoch 92/100\n",
            "16/16 [==============================] - 0s 215us/step - loss: 0.3069 - acc: 1.0000\n",
            "Epoch 93/100\n",
            "16/16 [==============================] - 0s 209us/step - loss: 0.3029 - acc: 1.0000\n",
            "Epoch 94/100\n",
            "16/16 [==============================] - 0s 214us/step - loss: 0.2990 - acc: 1.0000\n",
            "Epoch 95/100\n",
            "16/16 [==============================] - 0s 208us/step - loss: 0.2951 - acc: 1.0000\n",
            "Epoch 96/100\n",
            "16/16 [==============================] - 0s 192us/step - loss: 0.2912 - acc: 1.0000\n",
            "Epoch 97/100\n",
            "16/16 [==============================] - 0s 204us/step - loss: 0.2874 - acc: 1.0000\n",
            "Epoch 98/100\n",
            "16/16 [==============================] - 0s 188us/step - loss: 0.2836 - acc: 1.0000\n",
            "Epoch 99/100\n",
            "16/16 [==============================] - 0s 222us/step - loss: 0.2798 - acc: 1.0000\n",
            "Epoch 100/100\n",
            "16/16 [==============================] - 0s 242us/step - loss: 0.2761 - acc: 1.0000\n"
          ],
          "name": "stdout"
        },
        {
          "output_type": "execute_result",
          "data": {
            "text/plain": [
              "<keras.callbacks.History at 0x7f151c8d3a90>"
            ]
          },
          "metadata": {
            "tags": []
          },
          "execution_count": 19
        }
      ]
    },
    {
      "cell_type": "code",
      "metadata": {
        "id": "xSnZ2xvcL8Zn",
        "colab_type": "code",
        "outputId": "ab17738b-862a-4623-c93a-191f32846449",
        "colab": {
          "base_uri": "https://localhost:8080/",
          "height": 34
        }
      },
      "source": [
        "loss, accuracy = model.evaluate(padded_sentences, sentiments, verbose=0)\n",
        "print('Accuracy: %f' % (accuracy*100))"
      ],
      "execution_count": 0,
      "outputs": [
        {
          "output_type": "stream",
          "text": [
            "Accuracy: 100.000000\n"
          ],
          "name": "stdout"
        }
      ]
    },
    {
      "cell_type": "code",
      "metadata": {
        "id": "3LmFjgdQMEAB",
        "colab_type": "code",
        "colab": {}
      },
      "source": [
        ""
      ],
      "execution_count": 0,
      "outputs": []
    }
  ]
}